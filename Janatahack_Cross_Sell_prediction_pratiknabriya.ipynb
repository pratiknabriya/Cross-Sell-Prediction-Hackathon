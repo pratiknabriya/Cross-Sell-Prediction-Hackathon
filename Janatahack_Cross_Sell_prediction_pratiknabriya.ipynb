{
 "cells": [
  {
   "cell_type": "markdown",
   "metadata": {
    "colab_type": "text",
    "id": "4G_MRemh1IkP"
   },
   "source": [
    "# CROSS-SELL PREDICTION\n",
    "#### Solution submitted by: Pratik Nabriya | [LinkedIn](https://www.linkedin.com/in/pratiknabriya/) | [GitHub](https://github.com/pratiknabriya)\n",
    "\n",
    "## Problem description\n",
    "\n",
    "Your client is an Insurance company that has provided Health Insurance to its customers now they need your help in building a model to predict whether the policyholders (customers) from past year will also be interested in Vehicle Insurance provided by the company.\n",
    "\n",
    "An insurance policy is an arrangement by which a company undertakes to provide a guarantee of compensation for specified loss, damage, illness, or death in return for the payment of a specified premium. A premium is a sum of money that the customer needs to pay regularly to an insurance company for this guarantee.\n",
    "\n",
    "For example, you may pay a premium of Rs. 5000 each year for a health insurance cover of Rs. 200,000/- so that if, God forbid, you fall ill and need to be hospitalised in that year, the insurance provider company will bear the cost of hospitalisation etc. for upto Rs. 200,000. Now if you are wondering how can company bear such high hospitalisation cost when it charges a premium of only Rs. 5000/-, that is where the concept of probabilities comes in picture. For example, like you, there may be 100 customers who would be paying a premium of Rs. 5000 every year, but only a few of them (say 2-3) would get hospitalised that year and not everyone. This way everyone shares the risk of everyone else.\n",
    "\n",
    "Just like medical insurance, there is vehicle insurance where every year customer needs to pay a premium of certain amount to insurance provider company so that in case of unfortunate accident by the vehicle, the insurance provider company will provide a compensation (called ‘sum assured’) to the customer.\n",
    "\n",
    "Building a model to predict whether a customer would be interested in Vehicle Insurance is extremely helpful for the company because it can then accordingly plan its communication strategy to reach out to those customers and optimise its business model and revenue. \n",
    "\n",
    "Now, in order to predict, whether the customer would be interested in Vehicle insurance, you have information about demographics (gender, age, region code type), Vehicles (Vehicle Age, Damage), Policy (Premium, sourcing channel) etc.\n",
    "\n",
    " For more details visit: https://datahack.analyticsvidhya.com/contest/janatahack-cross-sell-prediction/"
   ]
  },
  {
   "cell_type": "markdown",
   "metadata": {
    "colab_type": "text",
    "id": "Ch_aAu2eL-a7"
   },
   "source": [
    "# 1. Importing libraries and reading data files "
   ]
  },
  {
   "cell_type": "code",
   "execution_count": null,
   "metadata": {
    "colab": {},
    "colab_type": "code",
    "id": "-EleCGWB0sD7"
   },
   "outputs": [],
   "source": [
    "# import necessary libraries \n",
    "\n",
    "%matplotlib inline\n",
    "import warnings \n",
    "warnings.filterwarnings(\"ignore\")\n",
    "\n",
    "import pandas as pd\n",
    "import numpy as np\n",
    "import matplotlib.pyplot as plt\n",
    "import seaborn as sns\n",
    "\n",
    "from collections import Counter\n",
    "from tqdm import tqdm\n",
    "import os\n",
    "\n",
    "from sklearn import metrics\n",
    "from sklearn.metrics import confusion_matrix\n",
    "from sklearn.metrics import roc_curve, auc\n",
    "from sklearn.metrics import f1_score\n",
    "from sklearn.metrics import roc_auc_score"
   ]
  },
  {
   "cell_type": "code",
   "execution_count": null,
   "metadata": {
    "colab": {
     "base_uri": "https://localhost:8080/",
     "height": 34
    },
    "colab_type": "code",
    "id": "P5_uoAsa1IBH",
    "outputId": "44b07fea-d6f7-421d-e1dc-87e4c435677a"
   },
   "outputs": [
    {
     "name": "stdout",
     "output_type": "stream",
     "text": [
      "Mounted at /content/gdrive\n"
     ]
    }
   ],
   "source": [
    "# mount google drive \n",
    "\n",
    "from google.colab import drive\n",
    "drive.mount('/content/gdrive')"
   ]
  },
  {
   "cell_type": "code",
   "execution_count": null,
   "metadata": {
    "colab": {},
    "colab_type": "code",
    "id": "8VMSx0NV4fd-"
   },
   "outputs": [],
   "source": [
    "# reading data from google drive \n",
    "my_path = '/content/gdrive/My Drive/JanataHack/Cross_Sell_Prediction_13092020/'\n",
    "# load train data in pandas dataframe\n",
    "train_data = pd.read_csv(my_path + 'train.csv')\n",
    "# load test data in pandas dataframe\n",
    "test_data = pd.read_csv(my_path + 'test.csv')"
   ]
  },
  {
   "cell_type": "code",
   "execution_count": null,
   "metadata": {
    "colab": {
     "base_uri": "https://localhost:8080/",
     "height": 51
    },
    "colab_type": "code",
    "id": "my8buoB77PDB",
    "outputId": "a0911a53-02b3-40de-da3c-e79faa218e02"
   },
   "outputs": [
    {
     "name": "stdout",
     "output_type": "stream",
     "text": [
      "(381109, 12)\n",
      "(127037, 11)\n"
     ]
    }
   ],
   "source": [
    "# shape of train and test data \n",
    "print(train_data.shape)\n",
    "print(test_data.shape)"
   ]
  },
  {
   "cell_type": "code",
   "execution_count": null,
   "metadata": {
    "colab": {
     "base_uri": "https://localhost:8080/",
     "height": 359
    },
    "colab_type": "code",
    "id": "GEFTa-zx7Gdw",
    "outputId": "656b2356-4032-497e-8b66-94c3f137da0a"
   },
   "outputs": [
    {
     "data": {
      "text/html": [
       "<div>\n",
       "<style scoped>\n",
       "    .dataframe tbody tr th:only-of-type {\n",
       "        vertical-align: middle;\n",
       "    }\n",
       "\n",
       "    .dataframe tbody tr th {\n",
       "        vertical-align: top;\n",
       "    }\n",
       "\n",
       "    .dataframe thead th {\n",
       "        text-align: right;\n",
       "    }\n",
       "</style>\n",
       "<table border=\"1\" class=\"dataframe\">\n",
       "  <thead>\n",
       "    <tr style=\"text-align: right;\">\n",
       "      <th></th>\n",
       "      <th>id</th>\n",
       "      <th>Gender</th>\n",
       "      <th>Age</th>\n",
       "      <th>Driving_License</th>\n",
       "      <th>Region_Code</th>\n",
       "      <th>Previously_Insured</th>\n",
       "      <th>Vehicle_Age</th>\n",
       "      <th>Vehicle_Damage</th>\n",
       "      <th>Annual_Premium</th>\n",
       "      <th>Policy_Sales_Channel</th>\n",
       "      <th>Vintage</th>\n",
       "      <th>Response</th>\n",
       "    </tr>\n",
       "  </thead>\n",
       "  <tbody>\n",
       "    <tr>\n",
       "      <th>0</th>\n",
       "      <td>1</td>\n",
       "      <td>Male</td>\n",
       "      <td>44</td>\n",
       "      <td>1</td>\n",
       "      <td>28.0</td>\n",
       "      <td>0</td>\n",
       "      <td>&gt; 2 Years</td>\n",
       "      <td>Yes</td>\n",
       "      <td>40454.0</td>\n",
       "      <td>26.0</td>\n",
       "      <td>217</td>\n",
       "      <td>1</td>\n",
       "    </tr>\n",
       "    <tr>\n",
       "      <th>1</th>\n",
       "      <td>2</td>\n",
       "      <td>Male</td>\n",
       "      <td>76</td>\n",
       "      <td>1</td>\n",
       "      <td>3.0</td>\n",
       "      <td>0</td>\n",
       "      <td>1-2 Year</td>\n",
       "      <td>No</td>\n",
       "      <td>33536.0</td>\n",
       "      <td>26.0</td>\n",
       "      <td>183</td>\n",
       "      <td>0</td>\n",
       "    </tr>\n",
       "    <tr>\n",
       "      <th>2</th>\n",
       "      <td>3</td>\n",
       "      <td>Male</td>\n",
       "      <td>47</td>\n",
       "      <td>1</td>\n",
       "      <td>28.0</td>\n",
       "      <td>0</td>\n",
       "      <td>&gt; 2 Years</td>\n",
       "      <td>Yes</td>\n",
       "      <td>38294.0</td>\n",
       "      <td>26.0</td>\n",
       "      <td>27</td>\n",
       "      <td>1</td>\n",
       "    </tr>\n",
       "    <tr>\n",
       "      <th>3</th>\n",
       "      <td>4</td>\n",
       "      <td>Male</td>\n",
       "      <td>21</td>\n",
       "      <td>1</td>\n",
       "      <td>11.0</td>\n",
       "      <td>1</td>\n",
       "      <td>&lt; 1 Year</td>\n",
       "      <td>No</td>\n",
       "      <td>28619.0</td>\n",
       "      <td>152.0</td>\n",
       "      <td>203</td>\n",
       "      <td>0</td>\n",
       "    </tr>\n",
       "    <tr>\n",
       "      <th>4</th>\n",
       "      <td>5</td>\n",
       "      <td>Female</td>\n",
       "      <td>29</td>\n",
       "      <td>1</td>\n",
       "      <td>41.0</td>\n",
       "      <td>1</td>\n",
       "      <td>&lt; 1 Year</td>\n",
       "      <td>No</td>\n",
       "      <td>27496.0</td>\n",
       "      <td>152.0</td>\n",
       "      <td>39</td>\n",
       "      <td>0</td>\n",
       "    </tr>\n",
       "    <tr>\n",
       "      <th>5</th>\n",
       "      <td>6</td>\n",
       "      <td>Female</td>\n",
       "      <td>24</td>\n",
       "      <td>1</td>\n",
       "      <td>33.0</td>\n",
       "      <td>0</td>\n",
       "      <td>&lt; 1 Year</td>\n",
       "      <td>Yes</td>\n",
       "      <td>2630.0</td>\n",
       "      <td>160.0</td>\n",
       "      <td>176</td>\n",
       "      <td>0</td>\n",
       "    </tr>\n",
       "    <tr>\n",
       "      <th>6</th>\n",
       "      <td>7</td>\n",
       "      <td>Male</td>\n",
       "      <td>23</td>\n",
       "      <td>1</td>\n",
       "      <td>11.0</td>\n",
       "      <td>0</td>\n",
       "      <td>&lt; 1 Year</td>\n",
       "      <td>Yes</td>\n",
       "      <td>23367.0</td>\n",
       "      <td>152.0</td>\n",
       "      <td>249</td>\n",
       "      <td>0</td>\n",
       "    </tr>\n",
       "    <tr>\n",
       "      <th>7</th>\n",
       "      <td>8</td>\n",
       "      <td>Female</td>\n",
       "      <td>56</td>\n",
       "      <td>1</td>\n",
       "      <td>28.0</td>\n",
       "      <td>0</td>\n",
       "      <td>1-2 Year</td>\n",
       "      <td>Yes</td>\n",
       "      <td>32031.0</td>\n",
       "      <td>26.0</td>\n",
       "      <td>72</td>\n",
       "      <td>1</td>\n",
       "    </tr>\n",
       "    <tr>\n",
       "      <th>8</th>\n",
       "      <td>9</td>\n",
       "      <td>Female</td>\n",
       "      <td>24</td>\n",
       "      <td>1</td>\n",
       "      <td>3.0</td>\n",
       "      <td>1</td>\n",
       "      <td>&lt; 1 Year</td>\n",
       "      <td>No</td>\n",
       "      <td>27619.0</td>\n",
       "      <td>152.0</td>\n",
       "      <td>28</td>\n",
       "      <td>0</td>\n",
       "    </tr>\n",
       "    <tr>\n",
       "      <th>9</th>\n",
       "      <td>10</td>\n",
       "      <td>Female</td>\n",
       "      <td>32</td>\n",
       "      <td>1</td>\n",
       "      <td>6.0</td>\n",
       "      <td>1</td>\n",
       "      <td>&lt; 1 Year</td>\n",
       "      <td>No</td>\n",
       "      <td>28771.0</td>\n",
       "      <td>152.0</td>\n",
       "      <td>80</td>\n",
       "      <td>0</td>\n",
       "    </tr>\n",
       "  </tbody>\n",
       "</table>\n",
       "</div>"
      ],
      "text/plain": [
       "   id  Gender  Age  ...  Policy_Sales_Channel  Vintage  Response\n",
       "0   1    Male   44  ...                  26.0      217         1\n",
       "1   2    Male   76  ...                  26.0      183         0\n",
       "2   3    Male   47  ...                  26.0       27         1\n",
       "3   4    Male   21  ...                 152.0      203         0\n",
       "4   5  Female   29  ...                 152.0       39         0\n",
       "5   6  Female   24  ...                 160.0      176         0\n",
       "6   7    Male   23  ...                 152.0      249         0\n",
       "7   8  Female   56  ...                  26.0       72         1\n",
       "8   9  Female   24  ...                 152.0       28         0\n",
       "9  10  Female   32  ...                 152.0       80         0\n",
       "\n",
       "[10 rows x 12 columns]"
      ]
     },
     "execution_count": 5,
     "metadata": {
      "tags": []
     },
     "output_type": "execute_result"
    }
   ],
   "source": [
    "# display first few rows of train data \n",
    "train_data.head(10)"
   ]
  },
  {
   "cell_type": "code",
   "execution_count": null,
   "metadata": {
    "colab": {
     "base_uri": "https://localhost:8080/",
     "height": 359
    },
    "colab_type": "code",
    "id": "DwNxk4Zk7skJ",
    "outputId": "c1cbeabd-af8d-445a-8668-ed7240fdae76"
   },
   "outputs": [
    {
     "data": {
      "text/html": [
       "<div>\n",
       "<style scoped>\n",
       "    .dataframe tbody tr th:only-of-type {\n",
       "        vertical-align: middle;\n",
       "    }\n",
       "\n",
       "    .dataframe tbody tr th {\n",
       "        vertical-align: top;\n",
       "    }\n",
       "\n",
       "    .dataframe thead th {\n",
       "        text-align: right;\n",
       "    }\n",
       "</style>\n",
       "<table border=\"1\" class=\"dataframe\">\n",
       "  <thead>\n",
       "    <tr style=\"text-align: right;\">\n",
       "      <th></th>\n",
       "      <th>id</th>\n",
       "      <th>Gender</th>\n",
       "      <th>Age</th>\n",
       "      <th>Driving_License</th>\n",
       "      <th>Region_Code</th>\n",
       "      <th>Previously_Insured</th>\n",
       "      <th>Vehicle_Age</th>\n",
       "      <th>Vehicle_Damage</th>\n",
       "      <th>Annual_Premium</th>\n",
       "      <th>Policy_Sales_Channel</th>\n",
       "      <th>Vintage</th>\n",
       "    </tr>\n",
       "  </thead>\n",
       "  <tbody>\n",
       "    <tr>\n",
       "      <th>0</th>\n",
       "      <td>381110</td>\n",
       "      <td>Male</td>\n",
       "      <td>25</td>\n",
       "      <td>1</td>\n",
       "      <td>11.0</td>\n",
       "      <td>1</td>\n",
       "      <td>&lt; 1 Year</td>\n",
       "      <td>No</td>\n",
       "      <td>35786.0</td>\n",
       "      <td>152.0</td>\n",
       "      <td>53</td>\n",
       "    </tr>\n",
       "    <tr>\n",
       "      <th>1</th>\n",
       "      <td>381111</td>\n",
       "      <td>Male</td>\n",
       "      <td>40</td>\n",
       "      <td>1</td>\n",
       "      <td>28.0</td>\n",
       "      <td>0</td>\n",
       "      <td>1-2 Year</td>\n",
       "      <td>Yes</td>\n",
       "      <td>33762.0</td>\n",
       "      <td>7.0</td>\n",
       "      <td>111</td>\n",
       "    </tr>\n",
       "    <tr>\n",
       "      <th>2</th>\n",
       "      <td>381112</td>\n",
       "      <td>Male</td>\n",
       "      <td>47</td>\n",
       "      <td>1</td>\n",
       "      <td>28.0</td>\n",
       "      <td>0</td>\n",
       "      <td>1-2 Year</td>\n",
       "      <td>Yes</td>\n",
       "      <td>40050.0</td>\n",
       "      <td>124.0</td>\n",
       "      <td>199</td>\n",
       "    </tr>\n",
       "    <tr>\n",
       "      <th>3</th>\n",
       "      <td>381113</td>\n",
       "      <td>Male</td>\n",
       "      <td>24</td>\n",
       "      <td>1</td>\n",
       "      <td>27.0</td>\n",
       "      <td>1</td>\n",
       "      <td>&lt; 1 Year</td>\n",
       "      <td>Yes</td>\n",
       "      <td>37356.0</td>\n",
       "      <td>152.0</td>\n",
       "      <td>187</td>\n",
       "    </tr>\n",
       "    <tr>\n",
       "      <th>4</th>\n",
       "      <td>381114</td>\n",
       "      <td>Male</td>\n",
       "      <td>27</td>\n",
       "      <td>1</td>\n",
       "      <td>28.0</td>\n",
       "      <td>1</td>\n",
       "      <td>&lt; 1 Year</td>\n",
       "      <td>No</td>\n",
       "      <td>59097.0</td>\n",
       "      <td>152.0</td>\n",
       "      <td>297</td>\n",
       "    </tr>\n",
       "    <tr>\n",
       "      <th>5</th>\n",
       "      <td>381115</td>\n",
       "      <td>Male</td>\n",
       "      <td>22</td>\n",
       "      <td>1</td>\n",
       "      <td>30.0</td>\n",
       "      <td>1</td>\n",
       "      <td>&lt; 1 Year</td>\n",
       "      <td>No</td>\n",
       "      <td>40207.0</td>\n",
       "      <td>152.0</td>\n",
       "      <td>266</td>\n",
       "    </tr>\n",
       "    <tr>\n",
       "      <th>6</th>\n",
       "      <td>381116</td>\n",
       "      <td>Female</td>\n",
       "      <td>51</td>\n",
       "      <td>1</td>\n",
       "      <td>37.0</td>\n",
       "      <td>1</td>\n",
       "      <td>1-2 Year</td>\n",
       "      <td>No</td>\n",
       "      <td>40118.0</td>\n",
       "      <td>26.0</td>\n",
       "      <td>107</td>\n",
       "    </tr>\n",
       "    <tr>\n",
       "      <th>7</th>\n",
       "      <td>381117</td>\n",
       "      <td>Male</td>\n",
       "      <td>25</td>\n",
       "      <td>1</td>\n",
       "      <td>41.0</td>\n",
       "      <td>1</td>\n",
       "      <td>&lt; 1 Year</td>\n",
       "      <td>No</td>\n",
       "      <td>23375.0</td>\n",
       "      <td>152.0</td>\n",
       "      <td>232</td>\n",
       "    </tr>\n",
       "    <tr>\n",
       "      <th>8</th>\n",
       "      <td>381118</td>\n",
       "      <td>Male</td>\n",
       "      <td>42</td>\n",
       "      <td>1</td>\n",
       "      <td>41.0</td>\n",
       "      <td>0</td>\n",
       "      <td>1-2 Year</td>\n",
       "      <td>Yes</td>\n",
       "      <td>2630.0</td>\n",
       "      <td>26.0</td>\n",
       "      <td>277</td>\n",
       "    </tr>\n",
       "    <tr>\n",
       "      <th>9</th>\n",
       "      <td>381119</td>\n",
       "      <td>Female</td>\n",
       "      <td>37</td>\n",
       "      <td>1</td>\n",
       "      <td>12.0</td>\n",
       "      <td>1</td>\n",
       "      <td>1-2 Year</td>\n",
       "      <td>No</td>\n",
       "      <td>27124.0</td>\n",
       "      <td>124.0</td>\n",
       "      <td>133</td>\n",
       "    </tr>\n",
       "  </tbody>\n",
       "</table>\n",
       "</div>"
      ],
      "text/plain": [
       "       id  Gender  Age  ...  Annual_Premium  Policy_Sales_Channel  Vintage\n",
       "0  381110    Male   25  ...         35786.0                 152.0       53\n",
       "1  381111    Male   40  ...         33762.0                   7.0      111\n",
       "2  381112    Male   47  ...         40050.0                 124.0      199\n",
       "3  381113    Male   24  ...         37356.0                 152.0      187\n",
       "4  381114    Male   27  ...         59097.0                 152.0      297\n",
       "5  381115    Male   22  ...         40207.0                 152.0      266\n",
       "6  381116  Female   51  ...         40118.0                  26.0      107\n",
       "7  381117    Male   25  ...         23375.0                 152.0      232\n",
       "8  381118    Male   42  ...          2630.0                  26.0      277\n",
       "9  381119  Female   37  ...         27124.0                 124.0      133\n",
       "\n",
       "[10 rows x 11 columns]"
      ]
     },
     "execution_count": 6,
     "metadata": {
      "tags": []
     },
     "output_type": "execute_result"
    }
   ],
   "source": [
    "# display test data \n",
    "test_data.head(10)"
   ]
  },
  {
   "cell_type": "code",
   "execution_count": null,
   "metadata": {
    "colab": {
     "base_uri": "https://localhost:8080/",
     "height": 340
    },
    "colab_type": "code",
    "id": "ODgPLf3pIE3r",
    "outputId": "ae9a270b-6fc1-417e-c88d-d82d57666669"
   },
   "outputs": [
    {
     "name": "stdout",
     "output_type": "stream",
     "text": [
      "<class 'pandas.core.frame.DataFrame'>\n",
      "RangeIndex: 381109 entries, 0 to 381108\n",
      "Data columns (total 12 columns):\n",
      " #   Column                Non-Null Count   Dtype  \n",
      "---  ------                --------------   -----  \n",
      " 0   id                    381109 non-null  int64  \n",
      " 1   Gender                381109 non-null  object \n",
      " 2   Age                   381109 non-null  int64  \n",
      " 3   Driving_License       381109 non-null  int64  \n",
      " 4   Region_Code           381109 non-null  float64\n",
      " 5   Previously_Insured    381109 non-null  int64  \n",
      " 6   Vehicle_Age           381109 non-null  object \n",
      " 7   Vehicle_Damage        381109 non-null  object \n",
      " 8   Annual_Premium        381109 non-null  float64\n",
      " 9   Policy_Sales_Channel  381109 non-null  float64\n",
      " 10  Vintage               381109 non-null  int64  \n",
      " 11  Response              381109 non-null  int64  \n",
      "dtypes: float64(3), int64(6), object(3)\n",
      "memory usage: 34.9+ MB\n"
     ]
    }
   ],
   "source": [
    "# columns info\n",
    "train_data.info()"
   ]
  },
  {
   "cell_type": "code",
   "execution_count": null,
   "metadata": {
    "colab": {
     "base_uri": "https://localhost:8080/",
     "height": 238
    },
    "colab_type": "code",
    "id": "KpG5WyM0QGbh",
    "outputId": "8b2750f4-1a36-493d-bb3e-db9216eea55e"
   },
   "outputs": [
    {
     "data": {
      "text/plain": [
       "id                      381109\n",
       "Gender                       2\n",
       "Age                         66\n",
       "Driving_License              2\n",
       "Region_Code                 53\n",
       "Previously_Insured           2\n",
       "Vehicle_Age                  3\n",
       "Vehicle_Damage               2\n",
       "Annual_Premium           48838\n",
       "Policy_Sales_Channel       155\n",
       "Vintage                    290\n",
       "Response                     2\n",
       "dtype: int64"
      ]
     },
     "execution_count": 163,
     "metadata": {
      "tags": []
     },
     "output_type": "execute_result"
    }
   ],
   "source": [
    "# unique rows in each column\n",
    "train_data.nunique()"
   ]
  },
  {
   "cell_type": "code",
   "execution_count": null,
   "metadata": {
    "colab": {
     "base_uri": "https://localhost:8080/",
     "height": 238
    },
    "colab_type": "code",
    "id": "YopSrE_P7xrY",
    "outputId": "a0ff2e32-2010-4e99-e7eb-760b56fd57b2"
   },
   "outputs": [
    {
     "data": {
      "text/plain": [
       "id                      0\n",
       "Gender                  0\n",
       "Age                     0\n",
       "Driving_License         0\n",
       "Region_Code             0\n",
       "Previously_Insured      0\n",
       "Vehicle_Age             0\n",
       "Vehicle_Damage          0\n",
       "Annual_Premium          0\n",
       "Policy_Sales_Channel    0\n",
       "Vintage                 0\n",
       "Response                0\n",
       "dtype: int64"
      ]
     },
     "execution_count": 8,
     "metadata": {
      "tags": []
     },
     "output_type": "execute_result"
    }
   ],
   "source": [
    "# check if there are any null values in train data \n",
    "train_data.isnull().sum()"
   ]
  },
  {
   "cell_type": "code",
   "execution_count": null,
   "metadata": {
    "colab": {
     "base_uri": "https://localhost:8080/",
     "height": 221
    },
    "colab_type": "code",
    "id": "T-Dua87l8MrL",
    "outputId": "ebcc6621-f1fb-4d1d-9b25-c16a81816f96"
   },
   "outputs": [
    {
     "data": {
      "text/plain": [
       "id                      0\n",
       "Gender                  0\n",
       "Age                     0\n",
       "Driving_License         0\n",
       "Region_Code             0\n",
       "Previously_Insured      0\n",
       "Vehicle_Age             0\n",
       "Vehicle_Damage          0\n",
       "Annual_Premium          0\n",
       "Policy_Sales_Channel    0\n",
       "Vintage                 0\n",
       "dtype: int64"
      ]
     },
     "execution_count": 10,
     "metadata": {
      "tags": []
     },
     "output_type": "execute_result"
    }
   ],
   "source": [
    "# check if there are any null values in test data\n",
    "test_data.isnull().sum()"
   ]
  },
  {
   "cell_type": "code",
   "execution_count": null,
   "metadata": {
    "colab": {
     "base_uri": "https://localhost:8080/",
     "height": 68
    },
    "colab_type": "code",
    "id": "WZegHPFo_ZNg",
    "outputId": "d587dd91-03f7-40fb-9f9e-36ef8e76324c"
   },
   "outputs": [
    {
     "data": {
      "text/plain": [
       "0    334399\n",
       "1     46710\n",
       "Name: Response, dtype: int64"
      ]
     },
     "execution_count": 5,
     "metadata": {
      "tags": []
     },
     "output_type": "execute_result"
    }
   ],
   "source": [
    "# check for imbalance in data \n",
    "train_data['Response'].value_counts()"
   ]
  },
  {
   "cell_type": "markdown",
   "metadata": {
    "colab_type": "text",
    "id": "vMfZZDup_jel"
   },
   "source": [
    "There is high imbalance in data as expected."
   ]
  },
  {
   "cell_type": "markdown",
   "metadata": {
    "colab_type": "text",
    "id": "Mv2j8p8aMrrc"
   },
   "source": [
    "# 2. Exploratory Data Analysis "
   ]
  },
  {
   "cell_type": "markdown",
   "metadata": {
    "colab_type": "text",
    "id": "Ta_0xjfJ8xMV"
   },
   "source": [
    "## 2.1. Gender "
   ]
  },
  {
   "cell_type": "code",
   "execution_count": null,
   "metadata": {
    "colab": {
     "base_uri": "https://localhost:8080/",
     "height": 68
    },
    "colab_type": "code",
    "id": "GleZGIoI8S66",
    "outputId": "eb082d82-371d-4b6f-b3b3-d427510523e2"
   },
   "outputs": [
    {
     "data": {
      "text/plain": [
       "Male      206089\n",
       "Female    175020\n",
       "Name: Gender, dtype: int64"
      ]
     },
     "execution_count": 13,
     "metadata": {
      "tags": []
     },
     "output_type": "execute_result"
    }
   ],
   "source": [
    "# train data\n",
    "train_data['Gender'].value_counts()"
   ]
  },
  {
   "cell_type": "code",
   "execution_count": null,
   "metadata": {
    "colab": {
     "base_uri": "https://localhost:8080/",
     "height": 51
    },
    "colab_type": "code",
    "id": "PjVy88Mi-Ntb",
    "outputId": "e869cdf3-2486-4ca4-f6b1-3ba6b0c1f020"
   },
   "outputs": [
    {
     "name": "stdout",
     "output_type": "stream",
     "text": [
      "Males interested in insurance % : 13.841107482689518\n",
      "Females interested in insurance % : 10.390241115301109\n"
     ]
    }
   ],
   "source": [
    "print(\"Males interested in insurance % :\", train_data[(train_data['Gender'] == 'Male') &  \n",
    "    (train_data['Response'] == 1)]['id'].count()*100/train_data[train_data['Gender'] == 'Male']['id'].count())\n",
    "\n",
    "print(\"Females interested in insurance % :\", train_data[(train_data['Gender'] == 'Female') &  \n",
    "    (train_data['Response'] == 1)]['id'].count()*100/train_data[train_data['Gender'] == 'Female']['id'].count())"
   ]
  },
  {
   "cell_type": "code",
   "execution_count": null,
   "metadata": {
    "colab": {
     "base_uri": "https://localhost:8080/",
     "height": 305
    },
    "colab_type": "code",
    "id": "mc5UQJBDKO0J",
    "outputId": "c1b06827-344c-412d-fe9e-86c23de9457c"
   },
   "outputs": [
    {
     "data": {
      "image/png": "[encoded data removed]",
      "text/plain": [
       "<Figure size 432x288 with 1 Axes>"
      ]
     },
     "metadata": {
      "needs_background": "light",
      "tags": []
     },
     "output_type": "display_data"
    }
   ],
   "source": [
    "train_data.groupby(['Gender', 'Response']).size().unstack().plot(kind = 'bar', stacked = True)\n",
    "plt.show()"
   ]
  },
  {
   "cell_type": "code",
   "execution_count": null,
   "metadata": {
    "colab": {
     "base_uri": "https://localhost:8080/",
     "height": 68
    },
    "colab_type": "code",
    "id": "yD7ZktPIAJxG",
    "outputId": "177e6422-baa7-459f-9599-ba1b116978b6"
   },
   "outputs": [
    {
     "data": {
      "text/plain": [
       "Male      68236\n",
       "Female    58801\n",
       "Name: Gender, dtype: int64"
      ]
     },
     "execution_count": 10,
     "metadata": {
      "tags": []
     },
     "output_type": "execute_result"
    }
   ],
   "source": [
    "# test data\n",
    "test_data['Gender'].value_counts()"
   ]
  },
  {
   "cell_type": "markdown",
   "metadata": {
    "colab_type": "text",
    "id": "MULDs0f2C-Vb"
   },
   "source": [
    "## 2.2 Age"
   ]
  },
  {
   "cell_type": "code",
   "execution_count": null,
   "metadata": {
    "colab": {
     "base_uri": "https://localhost:8080/",
     "height": 365
    },
    "colab_type": "code",
    "id": "irIg73S4r0T3",
    "outputId": "c14b299d-55b9-4b97-a1f9-0f948bf80063"
   },
   "outputs": [
    {
     "data": {
      "image/png": "[encoded data removed]",
      "text/plain": [
       "<Figure size 426.55x360 with 1 Axes>"
      ]
     },
     "metadata": {
      "tags": []
     },
     "output_type": "display_data"
    }
   ],
   "source": [
    "# how does age influence response \n",
    "\n",
    "sns.FacetGrid(data = train_data, hue = 'Response', height = 5).map(sns.distplot, 'Age').add_legend()\n",
    "plt.grid()\n",
    "plt.show()"
   ]
  },
  {
   "cell_type": "markdown",
   "metadata": {
    "colab_type": "text",
    "id": "OQ04AbqmEmVZ"
   },
   "source": [
    "People in middle age group (i.e. age > 30) are more likely to take vehicle insurance as compared to the people in the young age group(i.e. age <30) . \n",
    "So age is a potential feature. "
   ]
  },
  {
   "cell_type": "code",
   "execution_count": null,
   "metadata": {
    "colab": {
     "base_uri": "https://localhost:8080/",
     "height": 221
    },
    "colab_type": "code",
    "id": "YUNgNIjyQxiU",
    "outputId": "820ae2df-58bd-410f-ba2b-8326b7d7e37f"
   },
   "outputs": [
    {
     "data": {
      "text/plain": [
       "24    25960\n",
       "23    24256\n",
       "22    20964\n",
       "25    20636\n",
       "21    16457\n",
       "      ...  \n",
       "81       56\n",
       "82       29\n",
       "83       22\n",
       "84       11\n",
       "85       11\n",
       "Name: Age, Length: 66, dtype: int64"
      ]
     },
     "execution_count": 15,
     "metadata": {
      "tags": []
     },
     "output_type": "execute_result"
    }
   ],
   "source": [
    "train_data['Age'].value_counts()"
   ]
  },
  {
   "cell_type": "markdown",
   "metadata": {
    "colab_type": "text",
    "id": "EqxaBUH6Qzb2"
   },
   "source": [
    "We can also consider this feature as categorical feature and observe the result. "
   ]
  },
  {
   "cell_type": "markdown",
   "metadata": {
    "colab_type": "text",
    "id": "zIvWIUL0FPL8"
   },
   "source": [
    "## 2.3. Driving License "
   ]
  },
  {
   "cell_type": "code",
   "execution_count": null,
   "metadata": {
    "colab": {
     "base_uri": "https://localhost:8080/",
     "height": 68
    },
    "colab_type": "code",
    "id": "fLONZWxxFXMt",
    "outputId": "d7e1537f-45bc-45b4-c6c4-f6ce0056a39c"
   },
   "outputs": [
    {
     "data": {
      "text/plain": [
       "1    380297\n",
       "0       812\n",
       "Name: Driving_License, dtype: int64"
      ]
     },
     "execution_count": 16,
     "metadata": {
      "tags": []
     },
     "output_type": "execute_result"
    }
   ],
   "source": [
    "# train data \n",
    "train_data['Driving_License'].value_counts()"
   ]
  },
  {
   "cell_type": "code",
   "execution_count": null,
   "metadata": {
    "colab": {
     "base_uri": "https://localhost:8080/",
     "height": 142
    },
    "colab_type": "code",
    "id": "ZVQR7v9FNGVN",
    "outputId": "fa88e21a-8836-4606-d2f6-c81cbb9e5f52"
   },
   "outputs": [
    {
     "data": {
      "text/html": [
       "<div>\n",
       "<style scoped>\n",
       "    .dataframe tbody tr th:only-of-type {\n",
       "        vertical-align: middle;\n",
       "    }\n",
       "\n",
       "    .dataframe tbody tr th {\n",
       "        vertical-align: top;\n",
       "    }\n",
       "\n",
       "    .dataframe thead th {\n",
       "        text-align: right;\n",
       "    }\n",
       "</style>\n",
       "<table border=\"1\" class=\"dataframe\">\n",
       "  <thead>\n",
       "    <tr style=\"text-align: right;\">\n",
       "      <th>Response</th>\n",
       "      <th>0</th>\n",
       "      <th>1</th>\n",
       "    </tr>\n",
       "    <tr>\n",
       "      <th>Driving_License</th>\n",
       "      <th></th>\n",
       "      <th></th>\n",
       "    </tr>\n",
       "  </thead>\n",
       "  <tbody>\n",
       "    <tr>\n",
       "      <th>0</th>\n",
       "      <td>771</td>\n",
       "      <td>41</td>\n",
       "    </tr>\n",
       "    <tr>\n",
       "      <th>1</th>\n",
       "      <td>333628</td>\n",
       "      <td>46669</td>\n",
       "    </tr>\n",
       "  </tbody>\n",
       "</table>\n",
       "</div>"
      ],
      "text/plain": [
       "Response              0      1\n",
       "Driving_License               \n",
       "0                   771     41\n",
       "1                333628  46669"
      ]
     },
     "execution_count": 18,
     "metadata": {
      "tags": []
     },
     "output_type": "execute_result"
    }
   ],
   "source": [
    "train_data.groupby(['Driving_License', 'Response']).size().unstack()"
   ]
  },
  {
   "cell_type": "code",
   "execution_count": null,
   "metadata": {
    "colab": {
     "base_uri": "https://localhost:8080/",
     "height": 68
    },
    "colab_type": "code",
    "id": "bk0fFtW5FeFD",
    "outputId": "f817ba30-91b2-4719-d5d1-41450e1e44a1"
   },
   "outputs": [
    {
     "data": {
      "text/plain": [
       "1    126800\n",
       "0       237\n",
       "Name: Driving_License, dtype: int64"
      ]
     },
     "execution_count": 17,
     "metadata": {
      "tags": []
     },
     "output_type": "execute_result"
    }
   ],
   "source": [
    "# test data \n",
    "test_data['Driving_License'].value_counts()"
   ]
  },
  {
   "cell_type": "code",
   "execution_count": null,
   "metadata": {
    "colab": {
     "base_uri": "https://localhost:8080/",
     "height": 294
    },
    "colab_type": "code",
    "id": "L3rs9YGwNX6y",
    "outputId": "811b7844-3e15-45ee-c0ae-a2113d5029f5"
   },
   "outputs": [
    {
     "data": {
      "text/plain": [
       "<matplotlib.axes._subplots.AxesSubplot at 0x7f35ba8f3160>"
      ]
     },
     "execution_count": 20,
     "metadata": {
      "tags": []
     },
     "output_type": "execute_result"
    },
    {
     "data": {
      "image/png": "[encoded data removed]",
      "text/plain": [
       "<Figure size 432x288 with 1 Axes>"
      ]
     },
     "metadata": {
      "needs_background": "light",
      "tags": []
     },
     "output_type": "display_data"
    }
   ],
   "source": [
    "train_data.groupby(['Driving_License', 'Response']).size().unstack().plot(kind = 'bar', stacked = True)"
   ]
  },
  {
   "cell_type": "markdown",
   "metadata": {
    "colab_type": "text",
    "id": "RvOaFd0_GcAW"
   },
   "source": [
    "Over 99.5% of the Customer have driving license for both train and test data.  "
   ]
  },
  {
   "cell_type": "markdown",
   "metadata": {
    "colab_type": "text",
    "id": "KynpW_aBIFFP"
   },
   "source": [
    "## 2.4. Region Code"
   ]
  },
  {
   "cell_type": "code",
   "execution_count": null,
   "metadata": {
    "colab": {
     "base_uri": "https://localhost:8080/",
     "height": 935
    },
    "colab_type": "code",
    "id": "SzNIXEp6IEs6",
    "outputId": "266e304d-83dd-4d81-fe3c-56531ec4ae14"
   },
   "outputs": [
    {
     "data": {
      "text/plain": [
       "28.0    106415\n",
       "8.0      33877\n",
       "46.0     19749\n",
       "41.0     18263\n",
       "15.0     13308\n",
       "30.0     12191\n",
       "29.0     11065\n",
       "50.0     10243\n",
       "3.0       9251\n",
       "11.0      9232\n",
       "36.0      8797\n",
       "33.0      7654\n",
       "47.0      7436\n",
       "35.0      6942\n",
       "6.0       6280\n",
       "45.0      5605\n",
       "37.0      5501\n",
       "18.0      5153\n",
       "48.0      4681\n",
       "14.0      4678\n",
       "39.0      4644\n",
       "10.0      4374\n",
       "21.0      4266\n",
       "2.0       4038\n",
       "13.0      4036\n",
       "7.0       3279\n",
       "12.0      3198\n",
       "9.0       3101\n",
       "27.0      2823\n",
       "32.0      2787\n",
       "43.0      2639\n",
       "17.0      2617\n",
       "26.0      2587\n",
       "25.0      2503\n",
       "24.0      2415\n",
       "38.0      2026\n",
       "0.0       2021\n",
       "16.0      2007\n",
       "31.0      1960\n",
       "23.0      1960\n",
       "20.0      1935\n",
       "49.0      1832\n",
       "4.0       1801\n",
       "34.0      1664\n",
       "19.0      1535\n",
       "22.0      1309\n",
       "40.0      1295\n",
       "5.0       1279\n",
       "1.0       1008\n",
       "44.0       808\n",
       "42.0       591\n",
       "52.0       267\n",
       "51.0       183\n",
       "Name: Region_Code, dtype: int64"
      ]
     },
     "execution_count": 23,
     "metadata": {
      "tags": []
     },
     "output_type": "execute_result"
    }
   ],
   "source": [
    "# train data \n",
    "train_data['Region_Code'].value_counts()"
   ]
  },
  {
   "cell_type": "code",
   "execution_count": null,
   "metadata": {
    "colab": {
     "base_uri": "https://localhost:8080/",
     "height": 935
    },
    "colab_type": "code",
    "id": "79hcK5c1IDtx",
    "outputId": "ff724d8f-0cd6-4b4d-faff-49fd0e5bff79"
   },
   "outputs": [
    {
     "data": {
      "text/plain": [
       "28.0    35522\n",
       "8.0     11023\n",
       "46.0     6608\n",
       "41.0     6137\n",
       "15.0     4442\n",
       "30.0     4085\n",
       "29.0     3778\n",
       "50.0     3414\n",
       "3.0      3098\n",
       "11.0     3096\n",
       "36.0     2899\n",
       "33.0     2653\n",
       "47.0     2506\n",
       "35.0     2367\n",
       "6.0      2071\n",
       "45.0     1938\n",
       "37.0     1842\n",
       "18.0     1750\n",
       "48.0     1593\n",
       "14.0     1571\n",
       "39.0     1494\n",
       "10.0     1473\n",
       "21.0     1405\n",
       "2.0      1360\n",
       "13.0     1360\n",
       "12.0     1037\n",
       "7.0      1034\n",
       "9.0       983\n",
       "32.0      958\n",
       "27.0      888\n",
       "26.0      874\n",
       "43.0      869\n",
       "25.0      849\n",
       "24.0      848\n",
       "17.0      838\n",
       "16.0      720\n",
       "0.0       678\n",
       "31.0      675\n",
       "38.0      651\n",
       "23.0      636\n",
       "20.0      593\n",
       "4.0       578\n",
       "49.0      556\n",
       "34.0      526\n",
       "19.0      524\n",
       "22.0      420\n",
       "5.0       419\n",
       "40.0      413\n",
       "1.0       355\n",
       "44.0      256\n",
       "42.0      196\n",
       "52.0       90\n",
       "51.0       88\n",
       "Name: Region_Code, dtype: int64"
      ]
     },
     "execution_count": 24,
     "metadata": {
      "tags": []
     },
     "output_type": "execute_result"
    }
   ],
   "source": [
    "# test data \n",
    "test_data['Region_Code'].value_counts()"
   ]
  },
  {
   "cell_type": "markdown",
   "metadata": {
    "colab_type": "text",
    "id": "uNY6IuIWIqn5"
   },
   "source": [
    "Consequnetly we have to either do response coding or one hot encoding. Preferably we'll do response coding."
   ]
  },
  {
   "cell_type": "markdown",
   "metadata": {
    "colab_type": "text",
    "id": "f7bIT-8aJCTx"
   },
   "source": [
    "## 2.5. Previously insured "
   ]
  },
  {
   "cell_type": "code",
   "execution_count": null,
   "metadata": {
    "colab": {
     "base_uri": "https://localhost:8080/",
     "height": 142
    },
    "colab_type": "code",
    "id": "tlDhV153O_Li",
    "outputId": "9b50adcf-8830-4f81-a768-93e4b64a1797"
   },
   "outputs": [
    {
     "data": {
      "text/html": [
       "<div>\n",
       "<style scoped>\n",
       "    .dataframe tbody tr th:only-of-type {\n",
       "        vertical-align: middle;\n",
       "    }\n",
       "\n",
       "    .dataframe tbody tr th {\n",
       "        vertical-align: top;\n",
       "    }\n",
       "\n",
       "    .dataframe thead th {\n",
       "        text-align: right;\n",
       "    }\n",
       "</style>\n",
       "<table border=\"1\" class=\"dataframe\">\n",
       "  <thead>\n",
       "    <tr style=\"text-align: right;\">\n",
       "      <th>Response</th>\n",
       "      <th>0</th>\n",
       "      <th>1</th>\n",
       "    </tr>\n",
       "    <tr>\n",
       "      <th>Previously_Insured</th>\n",
       "      <th></th>\n",
       "      <th></th>\n",
       "    </tr>\n",
       "  </thead>\n",
       "  <tbody>\n",
       "    <tr>\n",
       "      <th>0</th>\n",
       "      <td>159929</td>\n",
       "      <td>46552</td>\n",
       "    </tr>\n",
       "    <tr>\n",
       "      <th>1</th>\n",
       "      <td>174470</td>\n",
       "      <td>158</td>\n",
       "    </tr>\n",
       "  </tbody>\n",
       "</table>\n",
       "</div>"
      ],
      "text/plain": [
       "Response                 0      1\n",
       "Previously_Insured               \n",
       "0                   159929  46552\n",
       "1                   174470    158"
      ]
     },
     "execution_count": 26,
     "metadata": {
      "tags": []
     },
     "output_type": "execute_result"
    }
   ],
   "source": [
    "# train data \n",
    "train_data.groupby(['Previously_Insured', 'Response']).size().unstack()"
   ]
  },
  {
   "cell_type": "code",
   "execution_count": null,
   "metadata": {
    "colab": {
     "base_uri": "https://localhost:8080/",
     "height": 294
    },
    "colab_type": "code",
    "id": "lH65yTjJPKAS",
    "outputId": "80cd206c-1143-4c99-ce5d-7e340311ba34"
   },
   "outputs": [
    {
     "data": {
      "text/plain": [
       "<matplotlib.axes._subplots.AxesSubplot at 0x7f6a67d22080>"
      ]
     },
     "execution_count": 27,
     "metadata": {
      "tags": []
     },
     "output_type": "execute_result"
    },
    {
     "data": {
      "image/png": "[encoded data removed]",
      "text/plain": [
       "<Figure size 432x288 with 1 Axes>"
      ]
     },
     "metadata": {
      "needs_background": "light",
      "tags": []
     },
     "output_type": "display_data"
    }
   ],
   "source": [
    "train_data.groupby(['Previously_Insured', 'Response']).size().unstack().plot(kind = 'bar')"
   ]
  },
  {
   "cell_type": "markdown",
   "metadata": {
    "colab_type": "text",
    "id": "fhlyS7JRJp_C"
   },
   "source": [
    "There are only 158 such peope who have previously got insured and want to insure again! \n",
    "\n",
    "Among the customers who already have their vehicle insured, almost all of them Responded NO. \n",
    "\n",
    "Among the customers who so not have have their vehicle insured, nearly 30% would want to get insured. \n",
    "\n",
    "So clearly, this is a good distinctive feature for prediction. "
   ]
  },
  {
   "cell_type": "markdown",
   "metadata": {
    "colab_type": "text",
    "id": "YYNNRRNsLrSk"
   },
   "source": [
    "## 2.6. Vehicle Age"
   ]
  },
  {
   "cell_type": "code",
   "execution_count": null,
   "metadata": {
    "colab": {
     "base_uri": "https://localhost:8080/",
     "height": 173
    },
    "colab_type": "code",
    "id": "i4J5AhpTLy-r",
    "outputId": "653bbfc1-ef66-4369-ad46-94643ce51ded"
   },
   "outputs": [
    {
     "data": {
      "text/html": [
       "<div>\n",
       "<style scoped>\n",
       "    .dataframe tbody tr th:only-of-type {\n",
       "        vertical-align: middle;\n",
       "    }\n",
       "\n",
       "    .dataframe tbody tr th {\n",
       "        vertical-align: top;\n",
       "    }\n",
       "\n",
       "    .dataframe thead th {\n",
       "        text-align: right;\n",
       "    }\n",
       "</style>\n",
       "<table border=\"1\" class=\"dataframe\">\n",
       "  <thead>\n",
       "    <tr style=\"text-align: right;\">\n",
       "      <th>Response</th>\n",
       "      <th>0</th>\n",
       "      <th>1</th>\n",
       "    </tr>\n",
       "    <tr>\n",
       "      <th>Vehicle_Age</th>\n",
       "      <th></th>\n",
       "      <th></th>\n",
       "    </tr>\n",
       "  </thead>\n",
       "  <tbody>\n",
       "    <tr>\n",
       "      <th>1-2 Year</th>\n",
       "      <td>165510</td>\n",
       "      <td>34806</td>\n",
       "    </tr>\n",
       "    <tr>\n",
       "      <th>&lt; 1 Year</th>\n",
       "      <td>157584</td>\n",
       "      <td>7202</td>\n",
       "    </tr>\n",
       "    <tr>\n",
       "      <th>&gt; 2 Years</th>\n",
       "      <td>11305</td>\n",
       "      <td>4702</td>\n",
       "    </tr>\n",
       "  </tbody>\n",
       "</table>\n",
       "</div>"
      ],
      "text/plain": [
       "Response          0      1\n",
       "Vehicle_Age               \n",
       "1-2 Year     165510  34806\n",
       "< 1 Year     157584   7202\n",
       "> 2 Years     11305   4702"
      ]
     },
     "execution_count": 28,
     "metadata": {
      "tags": []
     },
     "output_type": "execute_result"
    }
   ],
   "source": [
    "# train data \n",
    "train_data.groupby(['Vehicle_Age', 'Response']).size().unstack()"
   ]
  },
  {
   "cell_type": "code",
   "execution_count": null,
   "metadata": {
    "colab": {
     "base_uri": "https://localhost:8080/",
     "height": 317
    },
    "colab_type": "code",
    "id": "94CyMwVl2jdp",
    "outputId": "2a9fe1e1-72d3-41da-8a2d-b37ca7c7a087"
   },
   "outputs": [
    {
     "data": {
      "image/png": "[encoded data removed]",
      "text/plain": [
       "<Figure size 432x288 with 1 Axes>"
      ]
     },
     "metadata": {
      "needs_background": "light",
      "tags": []
     },
     "output_type": "display_data"
    }
   ],
   "source": [
    "train_data.groupby(['Vehicle_Age','Response']).size().unstack().plot(kind = 'bar', stacked = True)\n",
    "plt.show()"
   ]
  },
  {
   "cell_type": "markdown",
   "metadata": {
    "colab_type": "text",
    "id": "Q_X1IXAYtzkf"
   },
   "source": [
    "If the age is less than 1 year, Customers are most likely to respond NO. \n"
   ]
  },
  {
   "cell_type": "markdown",
   "metadata": {
    "colab_type": "text",
    "id": "S0c6a9z9ucPj"
   },
   "source": [
    "## 2.7. Vehicle Damage"
   ]
  },
  {
   "cell_type": "code",
   "execution_count": null,
   "metadata": {
    "colab": {
     "base_uri": "https://localhost:8080/",
     "height": 142
    },
    "colab_type": "code",
    "id": "xwk9FOPG5fSK",
    "outputId": "b1f3fde4-2e72-4f45-da66-1c27b98a9696"
   },
   "outputs": [
    {
     "data": {
      "text/html": [
       "<div>\n",
       "<style scoped>\n",
       "    .dataframe tbody tr th:only-of-type {\n",
       "        vertical-align: middle;\n",
       "    }\n",
       "\n",
       "    .dataframe tbody tr th {\n",
       "        vertical-align: top;\n",
       "    }\n",
       "\n",
       "    .dataframe thead th {\n",
       "        text-align: right;\n",
       "    }\n",
       "</style>\n",
       "<table border=\"1\" class=\"dataframe\">\n",
       "  <thead>\n",
       "    <tr style=\"text-align: right;\">\n",
       "      <th>Response</th>\n",
       "      <th>0</th>\n",
       "      <th>1</th>\n",
       "    </tr>\n",
       "    <tr>\n",
       "      <th>Vehicle_Damage</th>\n",
       "      <th></th>\n",
       "      <th></th>\n",
       "    </tr>\n",
       "  </thead>\n",
       "  <tbody>\n",
       "    <tr>\n",
       "      <th>No</th>\n",
       "      <td>187714</td>\n",
       "      <td>982</td>\n",
       "    </tr>\n",
       "    <tr>\n",
       "      <th>Yes</th>\n",
       "      <td>146685</td>\n",
       "      <td>45728</td>\n",
       "    </tr>\n",
       "  </tbody>\n",
       "</table>\n",
       "</div>"
      ],
      "text/plain": [
       "Response             0      1\n",
       "Vehicle_Damage               \n",
       "No              187714    982\n",
       "Yes             146685  45728"
      ]
     },
     "execution_count": 31,
     "metadata": {
      "tags": []
     },
     "output_type": "execute_result"
    }
   ],
   "source": [
    "train_data.groupby(['Vehicle_Damage', 'Response']).size().unstack()"
   ]
  },
  {
   "cell_type": "code",
   "execution_count": null,
   "metadata": {
    "colab": {
     "base_uri": "https://localhost:8080/",
     "height": 288
    },
    "colab_type": "code",
    "id": "epOaIIMYurJV",
    "outputId": "278d3a3d-2ab1-45e9-85f2-af8ee60dad51"
   },
   "outputs": [
    {
     "data": {
      "image/png": "[encoded data removed]",
      "text/plain": [
       "<Figure size 432x288 with 1 Axes>"
      ]
     },
     "metadata": {
      "needs_background": "light",
      "tags": []
     },
     "output_type": "display_data"
    }
   ],
   "source": [
    "train_data.groupby(['Vehicle_Damage', 'Response']).size().unstack().plot(kind = 'bar', stacked = True)\n",
    "plt.show()"
   ]
  },
  {
   "cell_type": "markdown",
   "metadata": {
    "colab_type": "text",
    "id": "amNhlGsY5wDT"
   },
   "source": [
    "Customers whose vehicle is NOT damaged in past are almost certainly going to respond NO for vehicle insurance. \n",
    "\n",
    "So, like 'Previously_Insured', 'Vehicle_Damage' in past turns out to be an excellent feature! "
   ]
  },
  {
   "cell_type": "markdown",
   "metadata": {
    "colab_type": "text",
    "id": "YMA4nRoP6vWQ"
   },
   "source": [
    "## 2.8. Annual_Premium"
   ]
  },
  {
   "cell_type": "code",
   "execution_count": null,
   "metadata": {
    "colab": {
     "base_uri": "https://localhost:8080/",
     "height": 170
    },
    "colab_type": "code",
    "id": "2bn2Jdep6uBy",
    "outputId": "bac8be7e-daee-45c0-b460-1b4cbb8424e7"
   },
   "outputs": [
    {
     "data": {
      "text/plain": [
       "count    381109.000000\n",
       "mean      30564.389581\n",
       "std       17213.155057\n",
       "min        2630.000000\n",
       "25%       24405.000000\n",
       "50%       31669.000000\n",
       "75%       39400.000000\n",
       "max      540165.000000\n",
       "Name: Annual_Premium, dtype: float64"
      ]
     },
     "execution_count": 26,
     "metadata": {
      "tags": []
     },
     "output_type": "execute_result"
    }
   ],
   "source": [
    "train_data['Annual_Premium'].describe()"
   ]
  },
  {
   "cell_type": "code",
   "execution_count": null,
   "metadata": {
    "colab": {
     "base_uri": "https://localhost:8080/",
     "height": 51
    },
    "colab_type": "code",
    "id": "loQz_uA5ukAg",
    "outputId": "265f4179-56bf-415a-ca86-447d7d3a3562"
   },
   "outputs": [
    {
     "data": {
      "text/plain": [
       "array([ 48431.  ,  49412.28,  50505.  ,  51774.  ,  53287.  ,  55176.  ,\n",
       "        57564.68,  60680.  ,  65380.84,  72963.  , 540165.  ])"
      ]
     },
     "execution_count": 27,
     "metadata": {
      "tags": []
     },
     "output_type": "execute_result"
    }
   ],
   "source": [
    "# 90 - 100 percentile values\n",
    "np.percentile(train_data['Annual_Premium'], np.arange(90, 101))"
   ]
  },
  {
   "cell_type": "code",
   "execution_count": null,
   "metadata": {
    "colab": {
     "base_uri": "https://localhost:8080/",
     "height": 34
    },
    "colab_type": "code",
    "id": "nbb3QUC97of6",
    "outputId": "ff734f21-e141-4aba-d09e-0db0edb18ecd"
   },
   "outputs": [
    {
     "data": {
      "text/plain": [
       "115554.0"
      ]
     },
     "execution_count": 28,
     "metadata": {
      "tags": []
     },
     "output_type": "execute_result"
    }
   ],
   "source": [
    "# 99.9 percentile\n",
    "np.percentile(train_data['Annual_Premium'], 99.9)"
   ]
  },
  {
   "cell_type": "markdown",
   "metadata": {
    "colab_type": "text",
    "id": "wAE5kgeS7kJ7"
   },
   "source": [
    "Clearly, 99 percentile is at 72963 and 99.9 percentile is at 115554."
   ]
  },
  {
   "cell_type": "code",
   "execution_count": null,
   "metadata": {
    "colab": {
     "base_uri": "https://localhost:8080/",
     "height": 51
    },
    "colab_type": "code",
    "id": "0FAfSUdKS0KO",
    "outputId": "be1861aa-7764-4b4f-8772-f3caf12ddfe4"
   },
   "outputs": [
    {
     "data": {
      "text/plain": [
       "array([ 48491.8 ,  49457.  ,  50548.12,  51818.  ,  53307.84,  55218.8 ,\n",
       "        57503.56,  60603.  ,  65228.96,  72739.  , 472042.  ])"
      ]
     },
     "execution_count": 29,
     "metadata": {
      "tags": []
     },
     "output_type": "execute_result"
    }
   ],
   "source": [
    "# Test data \n",
    "# 90 - 100 percentile values \n",
    "np.percentile(test_data['Annual_Premium'], np.arange(90, 101))"
   ]
  },
  {
   "cell_type": "code",
   "execution_count": null,
   "metadata": {
    "colab": {
     "base_uri": "https://localhost:8080/",
     "height": 34
    },
    "colab_type": "code",
    "id": "LV-InKYDTAtZ",
    "outputId": "63a757cb-e1ad-4c9e-84dd-1a09797d86ba"
   },
   "outputs": [
    {
     "data": {
      "text/plain": [
       "238893.86319996766"
      ]
     },
     "execution_count": 13,
     "metadata": {
      "tags": []
     },
     "output_type": "execute_result"
    }
   ],
   "source": [
    "# Test data\n",
    "# 99.9 percentile\n",
    "np.percentile(test_data['Annual_Premium'], 99.99)"
   ]
  },
  {
   "cell_type": "code",
   "execution_count": null,
   "metadata": {
    "colab": {
     "base_uri": "https://localhost:8080/",
     "height": 369
    },
    "colab_type": "code",
    "id": "zh7a3UrARiCA",
    "outputId": "80c6de75-42c9-4092-adc6-0873c14e80c0"
   },
   "outputs": [
    {
     "data": {
      "image/png": "[encoded data removed]",
      "text/plain": [
       "<Figure size 415.75x360 with 1 Axes>"
      ]
     },
     "metadata": {
      "needs_background": "light",
      "tags": []
     },
     "output_type": "display_data"
    }
   ],
   "source": [
    "# how does annual premium influence response\n",
    "\n",
    "sns.FacetGrid(data = train_data, hue = 'Response', height = 5).map(sns.distplot, 'Annual_Premium').add_legend()\n",
    "plt.show()"
   ]
  },
  {
   "cell_type": "code",
   "execution_count": null,
   "metadata": {
    "colab": {
     "base_uri": "https://localhost:8080/",
     "height": 369
    },
    "colab_type": "code",
    "id": "hhEl72cnSnhN",
    "outputId": "0ef365d5-5403-42ed-d384-f270c506f5d0"
   },
   "outputs": [
    {
     "data": {
      "image/png": "[encoded data removed]",
      "text/plain": [
       "<Figure size 415.75x360 with 1 Axes>"
      ]
     },
     "metadata": {
      "needs_background": "light",
      "tags": []
     },
     "output_type": "display_data"
    }
   ],
   "source": [
    "# Consider only upto 99.9 percentile \n",
    "\n",
    "sns.FacetGrid(data = train_data[train_data['Annual_Premium'] < np.percentile(train_data['Annual_Premium'], 99.9)], \n",
    "              hue = 'Response', height = 5).map(sns.distplot, 'Annual_Premium').add_legend()\n",
    "plt.show()"
   ]
  },
  {
   "cell_type": "code",
   "execution_count": null,
   "metadata": {
    "colab": {
     "base_uri": "https://localhost:8080/",
     "height": 369
    },
    "colab_type": "code",
    "id": "nyhyHJ8lTNB_",
    "outputId": "508de673-230d-46b9-f430-fafe39341c61"
   },
   "outputs": [
    {
     "data": {
      "image/png": "[encoded data removed]",
      "text/plain": [
       "<Figure size 415.75x360 with 1 Axes>"
      ]
     },
     "metadata": {
      "needs_background": "light",
      "tags": []
     },
     "output_type": "display_data"
    }
   ],
   "source": [
    "# Beyond 99.9 percentile \n",
    "\n",
    "sns.FacetGrid(data = train_data[train_data['Annual_Premium'] >= np.percentile(train_data['Annual_Premium'], 99.9)], \n",
    "              hue = 'Response', height = 5).map(sns.distplot, 'Annual_Premium').add_legend()\n",
    "plt.show()"
   ]
  },
  {
   "cell_type": "markdown",
   "metadata": {
    "colab_type": "text",
    "id": "fNI772n7-9Ps"
   },
   "source": [
    "There is no clear distinction here. So we cannot say anything conclusive from this univariate feature analysis. Due to presence of outlier values, we may need to scale this featue to minimize the effect of outlier. "
   ]
  },
  {
   "cell_type": "markdown",
   "metadata": {
    "colab_type": "text",
    "id": "2_ZjKmJV_oAS"
   },
   "source": [
    "## 2.9. Policy_Sales_Channel"
   ]
  },
  {
   "cell_type": "code",
   "execution_count": null,
   "metadata": {
    "colab": {
     "base_uri": "https://localhost:8080/",
     "height": 221
    },
    "colab_type": "code",
    "id": "IIRbJWTJ_8kt",
    "outputId": "d44dcc4d-f7e4-47e4-e348-9e824afd673a"
   },
   "outputs": [
    {
     "data": {
      "text/plain": [
       "152.0    134784\n",
       "26.0      79700\n",
       "124.0     73995\n",
       "160.0     21779\n",
       "156.0     10661\n",
       "          ...  \n",
       "144.0         1\n",
       "149.0         1\n",
       "84.0          1\n",
       "143.0         1\n",
       "43.0          1\n",
       "Name: Policy_Sales_Channel, Length: 155, dtype: int64"
      ]
     },
     "execution_count": 39,
     "metadata": {
      "tags": []
     },
     "output_type": "execute_result"
    }
   ],
   "source": [
    "train_data['Policy_Sales_Channel'].value_counts()"
   ]
  },
  {
   "cell_type": "markdown",
   "metadata": {
    "colab_type": "text",
    "id": "VmUkjACEBaR2"
   },
   "source": [
    "Too much variability! We will handle this feature by response encoding or One hot encoding"
   ]
  },
  {
   "cell_type": "code",
   "execution_count": null,
   "metadata": {
    "colab": {
     "base_uri": "https://localhost:8080/",
     "height": 357
    },
    "colab_type": "code",
    "id": "i4AO7ktnVwcv",
    "outputId": "9cc3c97f-03b9-4313-bb08-5a6a49721961"
   },
   "outputs": [
    {
     "data": {
      "text/plain": [
       "array([134784,  79700,  73995,  21779,  10661,   9930,   6684,   5993,\n",
       "         3885,   2893,   1865,   1848,   1598,   1515,   1410,   1264,\n",
       "         1234,   1203,   1074,   1055,   1026,    888,    843,    783,\n",
       "          769,    750,    631,    622,    607,    579,    523,    523,\n",
       "          517,    509,    492,    422,    332,    312,    264,    222,\n",
       "          185,    184,    175,    174,    169,    167,    158,    154,\n",
       "          152,    148,    143,    137,    132,    127,    124,    121,\n",
       "          110,    107,    104,    103,    101,    101,    100,     89,\n",
       "           85,     77,     75,     72,     68,     65,     64,     63,\n",
       "           62,     59,     54,     52,     52,     51,     48,     47,\n",
       "           46,     44,     38,     34,     32,     28,     27,     26,\n",
       "           24,     23,     23,     22,     21,     21,     20,     19,\n",
       "           18,     18,     16,     16,     16,     16,     15,     14,\n",
       "           14,     14,     14,     13,     13,     12,     11,     10,\n",
       "           10,     10,      9,      9,      8,      8,      7,      7,\n",
       "            7,      7,      6,      6,      6,      5,      5,      5,\n",
       "            5,      4,      4,      4,      4,      4,      4,      4,\n",
       "            4,      3,      3,      3,      3,      3,      3,      3,\n",
       "            2,      2,      2,      2,      1,      1,      1,      1,\n",
       "            1,      1,      1])"
      ]
     },
     "execution_count": 41,
     "metadata": {
      "tags": []
     },
     "output_type": "execute_result"
    }
   ],
   "source": [
    "train_data['Policy_Sales_Channel'].value_counts().values"
   ]
  },
  {
   "cell_type": "markdown",
   "metadata": {
    "colab_type": "text",
    "id": "8m6yu_XpC0JI"
   },
   "source": [
    "## 2.10. Vintage"
   ]
  },
  {
   "cell_type": "code",
   "execution_count": null,
   "metadata": {
    "colab": {
     "base_uri": "https://localhost:8080/",
     "height": 170
    },
    "colab_type": "code",
    "id": "M_-i-Dv_XI7p",
    "outputId": "58334a0b-420e-4129-aed7-488a2695858f"
   },
   "outputs": [
    {
     "data": {
      "text/plain": [
       "count    381109.000000\n",
       "mean         38.822584\n",
       "std          15.511611\n",
       "min          20.000000\n",
       "25%          25.000000\n",
       "50%          36.000000\n",
       "75%          49.000000\n",
       "max          85.000000\n",
       "Name: Age, dtype: float64"
      ]
     },
     "execution_count": 45,
     "metadata": {
      "tags": []
     },
     "output_type": "execute_result"
    }
   ],
   "source": [
    "train_data.Age.describe()"
   ]
  },
  {
   "cell_type": "code",
   "execution_count": null,
   "metadata": {
    "colab": {
     "base_uri": "https://localhost:8080/",
     "height": 297
    },
    "colab_type": "code",
    "id": "TpXmLWQ1-u4H",
    "outputId": "cc2807eb-df90-4aa8-b809-5d8da2cfbe76"
   },
   "outputs": [
    {
     "data": {
      "image/png": "[encoded data removed]",
      "text/plain": [
       "<Figure size 343.75x288 with 1 Axes>"
      ]
     },
     "metadata": {
      "needs_background": "light",
      "tags": []
     },
     "output_type": "display_data"
    }
   ],
   "source": [
    "sns.FacetGrid(data = train_data, hue = 'Response', height = 4).map(sns.distplot, 'Vintage').add_legend()\n",
    "plt.show()"
   ]
  },
  {
   "cell_type": "markdown",
   "metadata": {
    "colab_type": "text",
    "id": "Dr2LUBTVDsC5"
   },
   "source": [
    "There is a very high overlap. Clearly, this feature alone is very bad for perdiction. "
   ]
  },
  {
   "cell_type": "markdown",
   "metadata": {
    "colab_type": "text",
    "id": "iuYczmQlce3f"
   },
   "source": [
    "# 3. Data Cleaning and Pre-processing"
   ]
  },
  {
   "cell_type": "code",
   "execution_count": null,
   "metadata": {
    "colab": {
     "base_uri": "https://localhost:8080/",
     "height": 85
    },
    "colab_type": "code",
    "id": "-Ex6FORtcWyu",
    "outputId": "cc9adbf5-6df4-4b9b-ee92-4c6157a449dc"
   },
   "outputs": [
    {
     "data": {
      "text/plain": [
       "Index(['id', 'Gender', 'Age', 'Driving_License', 'Region_Code',\n",
       "       'Previously_Insured', 'Vehicle_Age', 'Vehicle_Damage', 'Annual_Premium',\n",
       "       'Policy_Sales_Channel', 'Vintage', 'Response'],\n",
       "      dtype='object')"
      ]
     },
     "execution_count": 12,
     "metadata": {
      "tags": []
     },
     "output_type": "execute_result"
    }
   ],
   "source": [
    "train_data.columns"
   ]
  },
  {
   "cell_type": "code",
   "execution_count": null,
   "metadata": {
    "colab": {
     "base_uri": "https://localhost:8080/",
     "height": 204
    },
    "colab_type": "code",
    "id": "iOHgcIiIYzSM",
    "outputId": "5cff833b-a15d-4732-bf8f-2952ec4903a3"
   },
   "outputs": [
    {
     "data": {
      "text/html": [
       "<div>\n",
       "<style scoped>\n",
       "    .dataframe tbody tr th:only-of-type {\n",
       "        vertical-align: middle;\n",
       "    }\n",
       "\n",
       "    .dataframe tbody tr th {\n",
       "        vertical-align: top;\n",
       "    }\n",
       "\n",
       "    .dataframe thead th {\n",
       "        text-align: right;\n",
       "    }\n",
       "</style>\n",
       "<table border=\"1\" class=\"dataframe\">\n",
       "  <thead>\n",
       "    <tr style=\"text-align: right;\">\n",
       "      <th></th>\n",
       "      <th>id</th>\n",
       "      <th>Gender</th>\n",
       "      <th>Age</th>\n",
       "      <th>Driving_License</th>\n",
       "      <th>Region_Code</th>\n",
       "      <th>Previously_Insured</th>\n",
       "      <th>Vehicle_Age</th>\n",
       "      <th>Vehicle_Damage</th>\n",
       "      <th>Annual_Premium</th>\n",
       "      <th>Policy_Sales_Channel</th>\n",
       "      <th>Vintage</th>\n",
       "      <th>Response</th>\n",
       "    </tr>\n",
       "  </thead>\n",
       "  <tbody>\n",
       "    <tr>\n",
       "      <th>0</th>\n",
       "      <td>1</td>\n",
       "      <td>Male</td>\n",
       "      <td>44</td>\n",
       "      <td>1</td>\n",
       "      <td>28.0</td>\n",
       "      <td>0</td>\n",
       "      <td>&gt; 2 Years</td>\n",
       "      <td>Yes</td>\n",
       "      <td>40454.0</td>\n",
       "      <td>26.0</td>\n",
       "      <td>217</td>\n",
       "      <td>1</td>\n",
       "    </tr>\n",
       "    <tr>\n",
       "      <th>1</th>\n",
       "      <td>2</td>\n",
       "      <td>Male</td>\n",
       "      <td>76</td>\n",
       "      <td>1</td>\n",
       "      <td>3.0</td>\n",
       "      <td>0</td>\n",
       "      <td>1-2 Year</td>\n",
       "      <td>No</td>\n",
       "      <td>33536.0</td>\n",
       "      <td>26.0</td>\n",
       "      <td>183</td>\n",
       "      <td>0</td>\n",
       "    </tr>\n",
       "    <tr>\n",
       "      <th>2</th>\n",
       "      <td>3</td>\n",
       "      <td>Male</td>\n",
       "      <td>47</td>\n",
       "      <td>1</td>\n",
       "      <td>28.0</td>\n",
       "      <td>0</td>\n",
       "      <td>&gt; 2 Years</td>\n",
       "      <td>Yes</td>\n",
       "      <td>38294.0</td>\n",
       "      <td>26.0</td>\n",
       "      <td>27</td>\n",
       "      <td>1</td>\n",
       "    </tr>\n",
       "    <tr>\n",
       "      <th>3</th>\n",
       "      <td>4</td>\n",
       "      <td>Male</td>\n",
       "      <td>21</td>\n",
       "      <td>1</td>\n",
       "      <td>11.0</td>\n",
       "      <td>1</td>\n",
       "      <td>&lt; 1 Year</td>\n",
       "      <td>No</td>\n",
       "      <td>28619.0</td>\n",
       "      <td>152.0</td>\n",
       "      <td>203</td>\n",
       "      <td>0</td>\n",
       "    </tr>\n",
       "    <tr>\n",
       "      <th>4</th>\n",
       "      <td>5</td>\n",
       "      <td>Female</td>\n",
       "      <td>29</td>\n",
       "      <td>1</td>\n",
       "      <td>41.0</td>\n",
       "      <td>1</td>\n",
       "      <td>&lt; 1 Year</td>\n",
       "      <td>No</td>\n",
       "      <td>27496.0</td>\n",
       "      <td>152.0</td>\n",
       "      <td>39</td>\n",
       "      <td>0</td>\n",
       "    </tr>\n",
       "  </tbody>\n",
       "</table>\n",
       "</div>"
      ],
      "text/plain": [
       "   id  Gender  Age  ...  Policy_Sales_Channel  Vintage  Response\n",
       "0   1    Male   44  ...                  26.0      217         1\n",
       "1   2    Male   76  ...                  26.0      183         0\n",
       "2   3    Male   47  ...                  26.0       27         1\n",
       "3   4    Male   21  ...                 152.0      203         0\n",
       "4   5  Female   29  ...                 152.0       39         0\n",
       "\n",
       "[5 rows x 12 columns]"
      ]
     },
     "execution_count": 13,
     "metadata": {
      "tags": []
     },
     "output_type": "execute_result"
    }
   ],
   "source": [
    "train_data.head()"
   ]
  },
  {
   "cell_type": "markdown",
   "metadata": {
    "colab_type": "text",
    "id": "84_YtzEYcrC-"
   },
   "source": [
    "## 3.1. Gender\n"
   ]
  },
  {
   "cell_type": "code",
   "execution_count": null,
   "metadata": {
    "colab": {
     "base_uri": "https://localhost:8080/",
     "height": 51
    },
    "colab_type": "code",
    "id": "fE5btP5AdU0-",
    "outputId": "3df5af6e-2dbe-4eac-9f62-9afe89d39648"
   },
   "outputs": [
    {
     "name": "stdout",
     "output_type": "stream",
     "text": [
      "(381109, 1)\n",
      "(127037, 1)\n"
     ]
    }
   ],
   "source": [
    "# train data\n",
    "X_train_gender = train_data['Gender'].apply(lambda x: 1 if x == 'Male' else 0)\n",
    "X_train_gender = X_train_gender.values.reshape(-1, 1)\n",
    "\n",
    "# test data\n",
    "X_test_gender = test_data['Gender'].apply(lambda x: 1 if x == 'Male' else 0)\n",
    "X_test_gender = X_test_gender.values.reshape(-1, 1)\n",
    "\n",
    "print(X_train_gender.shape)\n",
    "print(X_test_gender.shape)"
   ]
  },
  {
   "cell_type": "markdown",
   "metadata": {
    "colab_type": "text",
    "id": "RjAtvJVOcwLA"
   },
   "source": [
    "## 3.2. Age\n"
   ]
  },
  {
   "cell_type": "code",
   "execution_count": null,
   "metadata": {
    "colab": {
     "base_uri": "https://localhost:8080/",
     "height": 51
    },
    "colab_type": "code",
    "id": "6ZAfye1mct5U",
    "outputId": "76309d7e-02b5-44ac-f26a-1d6434e6b4a2"
   },
   "outputs": [
    {
     "name": "stdout",
     "output_type": "stream",
     "text": [
      "(381109, 1)\n",
      "(127037, 1)\n"
     ]
    }
   ],
   "source": [
    "from sklearn.preprocessing import MinMaxScaler\n",
    "\n",
    "scaler = MinMaxScaler()\n",
    "scaler.fit(train_data['Age'].values.reshape(-1, 1))\n",
    "X_train_age = scaler.transform(train_data['Age'].values.reshape(-1, 1))\n",
    "X_test_age = scaler.transform(test_data['Age'].values.reshape(-1, 1))\n",
    "\n",
    "print(X_train_age.shape)\n",
    "print(X_test_age.shape)"
   ]
  },
  {
   "cell_type": "code",
   "execution_count": null,
   "metadata": {
    "colab": {
     "base_uri": "https://localhost:8080/",
     "height": 51
    },
    "colab_type": "code",
    "id": "NgM24VDvh5WX",
    "outputId": "1b42df08-f183-4da7-a844-ea7fc371673f"
   },
   "outputs": [
    {
     "name": "stdout",
     "output_type": "stream",
     "text": [
      "(381109, 1)\n",
      "(127037, 1)\n"
     ]
    }
   ],
   "source": [
    "# no scaling\n",
    "\n",
    "X_train_age_n = train_data['Age'].values.reshape(-1, 1)\n",
    "X_test_age_n = test_data['Age'].values.reshape(-1, 1)\n",
    "\n",
    "print(X_train_age_n.shape)\n",
    "print(X_test_age_n.shape)"
   ]
  },
  {
   "cell_type": "markdown",
   "metadata": {
    "colab_type": "text",
    "id": "GkMPLOIlkwT7"
   },
   "source": [
    "## Feature engineering: new categorical feature for Age"
   ]
  },
  {
   "cell_type": "code",
   "execution_count": null,
   "metadata": {
    "colab": {
     "base_uri": "https://localhost:8080/",
     "height": 51
    },
    "colab_type": "code",
    "id": "-pS_IBqNkvFs",
    "outputId": "3a30238d-4cd0-4957-d36f-6fbb37b498ed"
   },
   "outputs": [
    {
     "name": "stdout",
     "output_type": "stream",
     "text": [
      "(381109, 1)\n",
      "(127037, 1)\n"
     ]
    }
   ],
   "source": [
    "# train data\n",
    "X_train_age_cat = train_data['Age'].apply(lambda x: 1 if x >= 30 else 0)\n",
    "X_train_age_cat = X_train_age_cat.values.reshape(-1, 1)\n",
    "\n",
    "# test data\n",
    "X_test_age_cat = test_data['Age'].apply(lambda x: 1 if x >= 30 else 0)\n",
    "X_test_age_cat = X_test_age_cat.values.reshape(-1, 1)\n",
    "\n",
    "print(X_train_age_cat.shape)\n",
    "print(X_test_age_cat.shape)"
   ]
  },
  {
   "cell_type": "markdown",
   "metadata": {
    "colab_type": "text",
    "id": "FxhE7NgCfLG1"
   },
   "source": [
    "## 3.3 Driving License"
   ]
  },
  {
   "cell_type": "code",
   "execution_count": null,
   "metadata": {
    "colab": {
     "base_uri": "https://localhost:8080/",
     "height": 51
    },
    "colab_type": "code",
    "id": "otYrbCmDf_M-",
    "outputId": "be1db34b-9582-4af1-bb2a-533b0676e72a"
   },
   "outputs": [
    {
     "name": "stdout",
     "output_type": "stream",
     "text": [
      "(381109, 1)\n",
      "(127037, 1)\n"
     ]
    }
   ],
   "source": [
    "X_train_license = train_data['Driving_License'].values.reshape(-1, 1)\n",
    "X_test_license = test_data['Driving_License'].values.reshape(-1, 1)\n",
    "\n",
    "print(X_train_license.shape)\n",
    "print(X_test_license.shape)"
   ]
  },
  {
   "cell_type": "markdown",
   "metadata": {
    "colab_type": "text",
    "id": "YkCF8Z47fnoR"
   },
   "source": [
    "## 3.4 Region Code"
   ]
  },
  {
   "cell_type": "code",
   "execution_count": null,
   "metadata": {
    "colab": {
     "base_uri": "https://localhost:8080/",
     "height": 51
    },
    "colab_type": "code",
    "id": "IAwPjbc_fsXs",
    "outputId": "f624bc02-b02e-4a09-9c16-336bb836dc51"
   },
   "outputs": [
    {
     "name": "stdout",
     "output_type": "stream",
     "text": [
      "(381109, 53)\n",
      "(127037, 53)\n"
     ]
    }
   ],
   "source": [
    "# one-hot encoding 'Region code'\n",
    "from sklearn.preprocessing import OneHotEncoder\n",
    "encoder = OneHotEncoder()\n",
    "encoder.fit(train_data['Region_Code'].values.reshape(-1, 1))\n",
    "\n",
    "X_train_region_code = encoder.transform(train_data['Region_Code'].values.reshape(-1, 1))\n",
    "X_test_region_code = encoder.transform(test_data['Region_Code'].values.reshape(-1, 1))\n",
    "\n",
    "print(X_train_region_code.shape)\n",
    "print(X_test_region_code.shape)"
   ]
  },
  {
   "cell_type": "markdown",
   "metadata": {
    "colab_type": "text",
    "id": "rgpjXHqtCiZ7"
   },
   "source": [
    "Note: In response coding, when we calculate the probability of a feature value belonging to a particular class."
   ]
  },
  {
   "cell_type": "code",
   "execution_count": null,
   "metadata": {
    "colab": {},
    "colab_type": "code",
    "id": "ZMiud4OhTxKR"
   },
   "outputs": [],
   "source": [
    "# response encoding\n",
    "\n",
    "def get_feat_dict(feature):\n",
    "    value_count = train_data[feature].value_counts() # value counts of each feature\n",
    "    my_dict = dict()  # initialize a dictionary\n",
    "    for i, denominator in value_count.items():\n",
    "        class_count = train_data[(train_data['Response'] == 1) & (train_data[feature] == i)]\n",
    "        my_dict[i] = round((class_count.shape[0]/denominator), 6)\n",
    "    return my_dict"
   ]
  },
  {
   "cell_type": "code",
   "execution_count": null,
   "metadata": {
    "colab": {
     "base_uri": "https://localhost:8080/",
     "height": 918
    },
    "colab_type": "code",
    "id": "dpx0qfQuGSdB",
    "outputId": "f7a96a1b-b11b-4843-da1b-aac297f14dc1"
   },
   "outputs": [
    {
     "data": {
      "text/plain": [
       "{0.0: 0.086096,\n",
       " 1.0: 0.108135,\n",
       " 2.0: 0.071075,\n",
       " 3.0: 0.127662,\n",
       " 4.0: 0.158245,\n",
       " 5.0: 0.115715,\n",
       " 6.0: 0.069904,\n",
       " 7.0: 0.131747,\n",
       " 8.0: 0.096142,\n",
       " 9.0: 0.081587,\n",
       " 10.0: 0.060128,\n",
       " 11.0: 0.11276,\n",
       " 12.0: 0.097561,\n",
       " 13.0: 0.090188,\n",
       " 14.0: 0.090209,\n",
       " 15.0: 0.071987,\n",
       " 16.0: 0.066766,\n",
       " 17.0: 0.07031,\n",
       " 18.0: 0.131574,\n",
       " 19.0: 0.162866,\n",
       " 20.0: 0.115245,\n",
       " 21.0: 0.071027,\n",
       " 22.0: 0.063407,\n",
       " 23.0: 0.153061,\n",
       " 24.0: 0.141615,\n",
       " 25.0: 0.042749,\n",
       " 26.0: 0.072284,\n",
       " 27.0: 0.074035,\n",
       " 28.0: 0.187163,\n",
       " 29.0: 0.123362,\n",
       " 30.0: 0.073825,\n",
       " 31.0: 0.10051,\n",
       " 32.0: 0.085755,\n",
       " 33.0: 0.099294,\n",
       " 34.0: 0.075721,\n",
       " 35.0: 0.124604,\n",
       " 36.0: 0.079914,\n",
       " 37.0: 0.079258,\n",
       " 38.0: 0.192004,\n",
       " 39.0: 0.1236,\n",
       " 40.0: 0.118147,\n",
       " 41.0: 0.121776,\n",
       " 42.0: 0.07445,\n",
       " 43.0: 0.092459,\n",
       " 44.0: 0.040842,\n",
       " 45.0: 0.109723,\n",
       " 46.0: 0.102891,\n",
       " 47.0: 0.087682,\n",
       " 48.0: 0.101901,\n",
       " 49.0: 0.074782,\n",
       " 50.0: 0.062677,\n",
       " 51.0: 0.153005,\n",
       " 52.0: 0.123596}"
      ]
     },
     "execution_count": 18,
     "metadata": {
      "tags": []
     },
     "output_type": "execute_result"
    }
   ],
   "source": [
    "region_code_dict = get_feat_dict('Region_Code')\n",
    "region_code_dict"
   ]
  },
  {
   "cell_type": "code",
   "execution_count": null,
   "metadata": {
    "colab": {
     "base_uri": "https://localhost:8080/",
     "height": 221
    },
    "colab_type": "code",
    "id": "EWtCKHDeONb-",
    "outputId": "46071542-8dd1-4c09-90c3-1c11e88e0307"
   },
   "outputs": [
    {
     "data": {
      "text/plain": [
       "0         0.187163\n",
       "1         0.127662\n",
       "2         0.187163\n",
       "3         0.112760\n",
       "4         0.121776\n",
       "            ...   \n",
       "381104    0.072284\n",
       "381105    0.079258\n",
       "381106    0.073825\n",
       "381107    0.090209\n",
       "381108    0.123362\n",
       "Name: Region_Code, Length: 381109, dtype: float64"
      ]
     },
     "execution_count": 19,
     "metadata": {
      "tags": []
     },
     "output_type": "execute_result"
    }
   ],
   "source": [
    "# test \n",
    "pkn = train_data['Region_Code'].copy()\n",
    "pkn = pkn.apply(lambda x: region_code_dict[x]) \n",
    "pkn"
   ]
  },
  {
   "cell_type": "code",
   "execution_count": null,
   "metadata": {
    "colab": {
     "base_uri": "https://localhost:8080/",
     "height": 51
    },
    "colab_type": "code",
    "id": "a5D69IVBO0Ef",
    "outputId": "529c3bd6-3123-4b92-d018-3af50de7a974"
   },
   "outputs": [
    {
     "name": "stdout",
     "output_type": "stream",
     "text": [
      "(381109, 1)\n",
      "(127037, 1)\n"
     ]
    }
   ],
   "source": [
    "# train data\n",
    "X_train_region_code_resp = train_data['Region_Code'].apply(lambda x: region_code_dict[x])\n",
    "X_train_region_code_resp = X_train_region_code_resp.values.reshape(-1, 1)\n",
    "\n",
    "# test data\n",
    "X_test_region_code_resp = test_data['Region_Code'].apply(lambda x: region_code_dict[x] if x in region_code_dict.keys() \n",
    "                                                                                       else np.median(list(region_code_dict.values())))\n",
    "X_test_region_code_resp = X_test_region_code_resp.values.reshape(-1, 1)\n",
    "\n",
    "print(X_train_region_code_resp.shape)\n",
    "print(X_test_region_code_resp.shape)"
   ]
  },
  {
   "cell_type": "markdown",
   "metadata": {
    "colab_type": "text",
    "id": "Mx2kgaA8hk8i"
   },
   "source": [
    "## 3.5 Previously Insured"
   ]
  },
  {
   "cell_type": "code",
   "execution_count": null,
   "metadata": {
    "colab": {
     "base_uri": "https://localhost:8080/",
     "height": 51
    },
    "colab_type": "code",
    "id": "iCLQ3SJHfswz",
    "outputId": "f623be44-6396-4764-cf1e-6714c409950a"
   },
   "outputs": [
    {
     "name": "stdout",
     "output_type": "stream",
     "text": [
      "(381109, 1)\n",
      "(127037, 1)\n"
     ]
    }
   ],
   "source": [
    "X_train_prev_ins = train_data['Previously_Insured'].values.reshape(-1, 1)\n",
    "X_test_prev_ins = test_data['Previously_Insured'].values.reshape(-1, 1)\n",
    "\n",
    "print(X_train_prev_ins.shape)\n",
    "print(X_test_prev_ins.shape)"
   ]
  },
  {
   "cell_type": "markdown",
   "metadata": {
    "colab_type": "text",
    "id": "tu1LUS77iCo6"
   },
   "source": [
    "## 3.6 Vehicle Age"
   ]
  },
  {
   "cell_type": "code",
   "execution_count": null,
   "metadata": {
    "colab": {
     "base_uri": "https://localhost:8080/",
     "height": 51
    },
    "colab_type": "code",
    "id": "SvGxDsGOfsot",
    "outputId": "a7e2237b-a4df-4efb-b4b2-7dc52e82afd5"
   },
   "outputs": [
    {
     "name": "stdout",
     "output_type": "stream",
     "text": [
      "(381109, 3)\n",
      "(127037, 3)\n"
     ]
    }
   ],
   "source": [
    "# one-hot encoding 'Vehicle Age'\n",
    "from sklearn.preprocessing import OneHotEncoder\n",
    "encoder = OneHotEncoder()\n",
    "encoder.fit(train_data['Vehicle_Age'].values.reshape(-1, 1))\n",
    "\n",
    "X_train_vehicle_age = encoder.transform(train_data['Vehicle_Age'].values.reshape(-1, 1))\n",
    "X_test_vehicle_age = encoder.transform(test_data['Vehicle_Age'].values.reshape(-1, 1))\n",
    "\n",
    "print(X_train_vehicle_age.shape)\n",
    "print(X_test_vehicle_age.shape)"
   ]
  },
  {
   "cell_type": "markdown",
   "metadata": {
    "colab_type": "text",
    "id": "5hbejj-9Uc-X"
   },
   "source": [
    "#### label encoding 'Vehicle Age'"
   ]
  },
  {
   "cell_type": "code",
   "execution_count": null,
   "metadata": {
    "colab": {},
    "colab_type": "code",
    "id": "N7WFi4d9l1bw"
   },
   "outputs": [],
   "source": [
    "X_train_vehicle_age_n = train_data['Vehicle_Age'].replace({'< 1 Year':0, '1-2 Year':1, '> 2 Years':2})\n",
    "X_train_vehicle_age_n = X_train_vehicle_age_n.values.reshape(-1, 1)\n",
    "\n",
    "X_test_vehicle_age_n = test_data['Vehicle_Age'].replace({'< 1 Year':0, '1-2 Year':1, '> 2 Years':2})\n",
    "X_test_vehicle_age_n = X_test_vehicle_age_n.values.reshape(-1, 1)"
   ]
  },
  {
   "cell_type": "markdown",
   "metadata": {
    "colab_type": "text",
    "id": "DREGM2U5R7kP"
   },
   "source": [
    "#### Response coding"
   ]
  },
  {
   "cell_type": "code",
   "execution_count": null,
   "metadata": {
    "colab": {
     "base_uri": "https://localhost:8080/",
     "height": 34
    },
    "colab_type": "code",
    "id": "uWTk-jEGR5rd",
    "outputId": "2e863ebd-3aed-4750-a203-5956792e44b3"
   },
   "outputs": [
    {
     "data": {
      "text/plain": [
       "{'1-2 Year': 0.173755, '< 1 Year': 0.043705, '> 2 Years': 0.293746}"
      ]
     },
     "execution_count": 26,
     "metadata": {
      "tags": []
     },
     "output_type": "execute_result"
    }
   ],
   "source": [
    "vehicle_age_dict = get_feat_dict('Vehicle_Age')\n",
    "vehicle_age_dict"
   ]
  },
  {
   "cell_type": "code",
   "execution_count": null,
   "metadata": {
    "colab": {
     "base_uri": "https://localhost:8080/",
     "height": 51
    },
    "colab_type": "code",
    "id": "BMLCIWUHR5sF",
    "outputId": "1041f039-36c9-4fcd-eb31-7a3d807e75d5"
   },
   "outputs": [
    {
     "name": "stdout",
     "output_type": "stream",
     "text": [
      "(381109, 1)\n",
      "(127037, 1)\n"
     ]
    }
   ],
   "source": [
    "X_train_vehicle_age_resp = train_data['Vehicle_Age'].apply(lambda x: vehicle_age_dict[x])\n",
    "X_train_vehicle_age_resp = X_train_vehicle_age_resp.values.reshape(-1, 1)\n",
    "\n",
    "X_test_vehicle_age_resp = test_data['Vehicle_Age'].apply(lambda x: vehicle_age_dict[x])\n",
    "X_test_vehicle_age_resp = X_test_vehicle_age_resp.values.reshape(-1, 1)\n",
    "\n",
    "print(X_train_vehicle_age_resp.shape)\n",
    "print(X_test_vehicle_age_resp.shape)"
   ]
  },
  {
   "cell_type": "markdown",
   "metadata": {
    "colab_type": "text",
    "id": "Qlwlp-zOicSS"
   },
   "source": [
    "## 3.7 Vehicle Damage"
   ]
  },
  {
   "cell_type": "code",
   "execution_count": null,
   "metadata": {
    "colab": {
     "base_uri": "https://localhost:8080/",
     "height": 51
    },
    "colab_type": "code",
    "id": "e0hP3oLOiuNT",
    "outputId": "b937b037-c836-4f27-e086-8725b7598b46"
   },
   "outputs": [
    {
     "name": "stdout",
     "output_type": "stream",
     "text": [
      "(381109, 1)\n",
      "(127037, 1)\n"
     ]
    }
   ],
   "source": [
    "# train data\n",
    "X_train_damage = train_data['Vehicle_Damage'].apply(lambda x: 1 if x == 'Yes' else 0)\n",
    "X_train_damage = X_train_damage.values.reshape(-1, 1)\n",
    "\n",
    "# test data\n",
    "X_test_damage = test_data['Vehicle_Damage'].apply(lambda x: 1 if x == 'Yes' else 0)\n",
    "X_test_damage = X_test_damage.values.reshape(-1, 1)\n",
    "\n",
    "print(X_train_damage.shape)\n",
    "print(X_test_damage.shape)"
   ]
  },
  {
   "cell_type": "markdown",
   "metadata": {
    "colab_type": "text",
    "id": "116qxm6kjB92"
   },
   "source": [
    "## 3.8 Annual Premium"
   ]
  },
  {
   "cell_type": "code",
   "execution_count": null,
   "metadata": {
    "colab": {
     "base_uri": "https://localhost:8080/",
     "height": 51
    },
    "colab_type": "code",
    "id": "tWSqyz2Se8PI",
    "outputId": "1d62da39-fa42-4b7a-e01f-41fa38b50e80"
   },
   "outputs": [
    {
     "name": "stdout",
     "output_type": "stream",
     "text": [
      "(381109, 1)\n",
      "(127037, 1)\n"
     ]
    }
   ],
   "source": [
    "from sklearn.preprocessing import MinMaxScaler\n",
    "\n",
    "scaler = MinMaxScaler()\n",
    "scaler.fit(train_data['Annual_Premium'].values.reshape(-1, 1))\n",
    "X_train_premium = scaler.transform(train_data['Annual_Premium'].values.reshape(-1, 1))\n",
    "X_test_premium = scaler.transform(test_data['Annual_Premium'].values.reshape(-1, 1))\n",
    "\n",
    "print(X_train_premium.shape)\n",
    "print(X_test_premium.shape)"
   ]
  },
  {
   "cell_type": "code",
   "execution_count": null,
   "metadata": {
    "colab": {
     "base_uri": "https://localhost:8080/",
     "height": 51
    },
    "colab_type": "code",
    "id": "TltfHSQ4juZI",
    "outputId": "3cc81152-bac0-4168-a3f7-255069bda4a4"
   },
   "outputs": [
    {
     "name": "stdout",
     "output_type": "stream",
     "text": [
      "(381109, 1)\n",
      "(127037, 1)\n"
     ]
    }
   ],
   "source": [
    "# no scale\n",
    "\n",
    "X_train_premium_n = train_data['Annual_Premium'].values.reshape(-1, 1)\n",
    "X_test_premium_n =  test_data['Annual_Premium'].values.reshape(-1, 1)\n",
    "\n",
    "print(X_train_premium_n.shape)\n",
    "print(X_test_premium_n.shape)"
   ]
  },
  {
   "cell_type": "markdown",
   "metadata": {
    "colab_type": "text",
    "id": "2A7F4i3FjVhJ"
   },
   "source": [
    "## 3.9 Policy Sales Channel"
   ]
  },
  {
   "cell_type": "code",
   "execution_count": null,
   "metadata": {
    "colab": {
     "base_uri": "https://localhost:8080/",
     "height": 51
    },
    "colab_type": "code",
    "id": "cMCfQoWcjTre",
    "outputId": "b9c2a7d4-db3d-41b9-ff0c-9f59c99499bb"
   },
   "outputs": [
    {
     "name": "stdout",
     "output_type": "stream",
     "text": [
      "(381109, 155)\n",
      "(127037, 155)\n"
     ]
    }
   ],
   "source": [
    "# one-hot encoding 'Policy_Channel'\n",
    "from sklearn.preprocessing import OneHotEncoder\n",
    "encoder = OneHotEncoder(handle_unknown = 'ignore')\n",
    "encoder.fit(train_data['Policy_Sales_Channel'].values.reshape(-1, 1))\n",
    "\n",
    "X_train_sales_chnl = encoder.transform(train_data['Policy_Sales_Channel'].values.reshape(-1, 1))\n",
    "X_test_sales_chnl = encoder.transform(test_data['Policy_Sales_Channel'].values.reshape(-1, 1))\n",
    "\n",
    "print(X_train_sales_chnl.shape)\n",
    "print(X_test_sales_chnl.shape)"
   ]
  },
  {
   "cell_type": "markdown",
   "metadata": {
    "colab_type": "text",
    "id": "5DORX8e4WaLI"
   },
   "source": [
    "#### Response encoding"
   ]
  },
  {
   "cell_type": "code",
   "execution_count": null,
   "metadata": {
    "colab": {
     "base_uri": "https://localhost:8080/",
     "height": 1000
    },
    "colab_type": "code",
    "id": "kg9rdVuHWoEe",
    "outputId": "535e5089-ecc3-4550-bae6-cda85188a8de"
   },
   "outputs": [
    {
     "data": {
      "text/plain": [
       "{1.0: 0.032588,\n",
       " 2.0: 0.25,\n",
       " 3.0: 0.304015,\n",
       " 4.0: 0.200393,\n",
       " 6.0: 0.0,\n",
       " 7.0: 0.113892,\n",
       " 8.0: 0.082508,\n",
       " 9.0: 0.100592,\n",
       " 10.0: 0.189394,\n",
       " 11.0: 0.089776,\n",
       " 12.0: 0.168582,\n",
       " 13.0: 0.147453,\n",
       " 14.0: 0.101286,\n",
       " 15.0: 0.087838,\n",
       " 16.0: 0.086042,\n",
       " 17.0: 0.1875,\n",
       " 18.0: 0.035928,\n",
       " 19.0: 0.085586,\n",
       " 20.0: 0.111111,\n",
       " 21.0: 0.081081,\n",
       " 22.0: 0.054217,\n",
       " 23.0: 0.137441,\n",
       " 24.0: 0.132,\n",
       " 25.0: 0.199675,\n",
       " 26.0: 0.199385,\n",
       " 27.0: 0.333333,\n",
       " 28.0: 0.333333,\n",
       " 29.0: 0.125741,\n",
       " 30.0: 0.110638,\n",
       " 31.0: 0.253566,\n",
       " 32.0: 0.095238,\n",
       " 33.0: 0.0,\n",
       " 34.0: 0.0,\n",
       " 35.0: 0.133333,\n",
       " 36.0: 0.326923,\n",
       " 37.0: 0.098684,\n",
       " 38.0: 0.0,\n",
       " 39.0: 0.1,\n",
       " 40.0: 0.133333,\n",
       " 41.0: 0.0,\n",
       " 42.0: 0.19697,\n",
       " 43.0: 1.0,\n",
       " 44.0: 0.19802,\n",
       " 45.0: 0.148936,\n",
       " 46.0: 0.0,\n",
       " 47.0: 0.126984,\n",
       " 48.0: 0.05,\n",
       " 49.0: 0.142857,\n",
       " 50.0: 0.0,\n",
       " 51.0: 0.083333,\n",
       " 52.0: 0.109005,\n",
       " 53.0: 0.21875,\n",
       " 54.0: 0.16,\n",
       " 55.0: 0.149525,\n",
       " 56.0: 0.184615,\n",
       " 57.0: 0.2,\n",
       " 58.0: 0.111111,\n",
       " 59.0: 0.19685,\n",
       " 60.0: 0.102515,\n",
       " 61.0: 0.096718,\n",
       " 62.0: 0.166667,\n",
       " 63.0: 0.052632,\n",
       " 64.0: 0.05618,\n",
       " 65.0: 0.067797,\n",
       " 66.0: 0.055556,\n",
       " 67.0: 0.0,\n",
       " 68.0: 0.25,\n",
       " 69.0: 0.166667,\n",
       " 70.0: 0.0,\n",
       " 71.0: 0.0,\n",
       " 73.0: 0.076923,\n",
       " 74.0: 0.0,\n",
       " 75.0: 0.0,\n",
       " 76.0: 0.0,\n",
       " 78.0: 0.130435,\n",
       " 79.0: 0.0,\n",
       " 80.0: 0.285714,\n",
       " 81.0: 0.285714,\n",
       " 82.0: 0.0,\n",
       " 83.0: 0.0,\n",
       " 84.0: 0.0,\n",
       " 86.0: 0.125,\n",
       " 87.0: 0.285714,\n",
       " 88.0: 0.058824,\n",
       " 89.0: 0.142857,\n",
       " 90.0: 0.269231,\n",
       " 91.0: 0.183544,\n",
       " 92.0: 0.125,\n",
       " 93.0: 0.107143,\n",
       " 94.0: 0.195652,\n",
       " 95.0: 0.0,\n",
       " 96.0: 0.0,\n",
       " 97.0: 0.076923,\n",
       " 98.0: 0.047619,\n",
       " 99.0: 0.0,\n",
       " 100.0: 0.25,\n",
       " 101.0: 0.285714,\n",
       " 102.0: 0.0,\n",
       " 103.0: 0.125,\n",
       " 104.0: 0.0,\n",
       " 105.0: 0.0,\n",
       " 106.0: 0.230769,\n",
       " 107.0: 0.037037,\n",
       " 108.0: 0.026316,\n",
       " 109.0: 0.12,\n",
       " 110.0: 0.090909,\n",
       " 111.0: 0.132353,\n",
       " 112.0: 0.0,\n",
       " 113.0: 0.067308,\n",
       " 114.0: 0.130435,\n",
       " 115.0: 0.0,\n",
       " 116.0: 0.116883,\n",
       " 117.0: 0.0,\n",
       " 118.0: 0.0,\n",
       " 119.0: 0.048544,\n",
       " 120.0: 0.084525,\n",
       " 121.0: 0.296875,\n",
       " 122.0: 0.173212,\n",
       " 123.0: 1.0,\n",
       " 124.0: 0.189148,\n",
       " 125.0: 0.123782,\n",
       " 126.0: 0.0,\n",
       " 127.0: 0.072727,\n",
       " 128.0: 0.094891,\n",
       " 129.0: 0.068182,\n",
       " 130.0: 0.090909,\n",
       " 131.0: 0.115702,\n",
       " 132.0: 0.064516,\n",
       " 133.0: 0.047059,\n",
       " 134.0: 0.0,\n",
       " 135.0: 0.089109,\n",
       " 136.0: 0.216216,\n",
       " 137.0: 0.0,\n",
       " 138.0: 0.096774,\n",
       " 139.0: 0.090909,\n",
       " 140.0: 0.065421,\n",
       " 143.0: 0.0,\n",
       " 144.0: 0.0,\n",
       " 145.0: 0.132184,\n",
       " 146.0: 0.0,\n",
       " 147.0: 0.184783,\n",
       " 148.0: 0.103896,\n",
       " 149.0: 0.0,\n",
       " 150.0: 0.24359,\n",
       " 151.0: 0.031403,\n",
       " 152.0: 0.028624,\n",
       " 153.0: 0.059308,\n",
       " 154.0: 0.245954,\n",
       " 155.0: 0.320097,\n",
       " 156.0: 0.215458,\n",
       " 157.0: 0.268402,\n",
       " 158.0: 0.27439,\n",
       " 159.0: 0.019608,\n",
       " 160.0: 0.02181,\n",
       " 163.0: 0.304183}"
      ]
     },
     "execution_count": 34,
     "metadata": {
      "tags": []
     },
     "output_type": "execute_result"
    }
   ],
   "source": [
    "sales_chnl_dict = get_feat_dict('Policy_Sales_Channel')\n",
    "sales_chnl_dict"
   ]
  },
  {
   "cell_type": "code",
   "execution_count": null,
   "metadata": {
    "colab": {
     "base_uri": "https://localhost:8080/",
     "height": 221
    },
    "colab_type": "code",
    "id": "W9pK7Hg6WoEq",
    "outputId": "e9f696db-faff-4c27-9aa4-52a904dc4efd"
   },
   "outputs": [
    {
     "data": {
      "text/plain": [
       "0         0.199385\n",
       "1         0.199385\n",
       "2         0.199385\n",
       "3         0.028624\n",
       "4         0.028624\n",
       "            ...   \n",
       "381104    0.199385\n",
       "381105    0.028624\n",
       "381106    0.021810\n",
       "381107    0.189148\n",
       "381108    0.199385\n",
       "Name: Policy_Sales_Channel, Length: 381109, dtype: float64"
      ]
     },
     "execution_count": 35,
     "metadata": {
      "tags": []
     },
     "output_type": "execute_result"
    }
   ],
   "source": [
    "# test \n",
    "pkn = train_data['Policy_Sales_Channel'].copy()\n",
    "pkn = pkn.apply(lambda x: sales_chnl_dict[x]) \n",
    "pkn"
   ]
  },
  {
   "cell_type": "code",
   "execution_count": null,
   "metadata": {
    "colab": {
     "base_uri": "https://localhost:8080/",
     "height": 51
    },
    "colab_type": "code",
    "id": "4v3_MRGnWoE0",
    "outputId": "3ad48d52-0161-48e9-bf08-698cc3f8bd31"
   },
   "outputs": [
    {
     "name": "stdout",
     "output_type": "stream",
     "text": [
      "(381109, 1)\n",
      "(127037, 1)\n"
     ]
    }
   ],
   "source": [
    "X_train_sales_chnl_resp = train_data['Policy_Sales_Channel'].apply(lambda x: sales_chnl_dict[x])\n",
    "X_train_sales_chnl_resp = X_train_sales_chnl_resp.values.reshape(-1, 1)\n",
    "\n",
    "X_test_sales_chnl_resp = test_data['Policy_Sales_Channel'].apply(lambda x: sales_chnl_dict[x] if x in sales_chnl_dict.keys() \n",
    "                                                                                              else np.median(list(sales_chnl_dict.values())))\n",
    "X_test_sales_chnl_resp = X_test_sales_chnl_resp.values.reshape(-1, 1)\n",
    "\n",
    "print(X_train_sales_chnl_resp.shape)\n",
    "print(X_test_sales_chnl_resp.shape)"
   ]
  },
  {
   "cell_type": "markdown",
   "metadata": {
    "colab_type": "text",
    "id": "YiyJi1F8kUq7"
   },
   "source": [
    "## 3.10 Vintage"
   ]
  },
  {
   "cell_type": "code",
   "execution_count": null,
   "metadata": {
    "colab": {
     "base_uri": "https://localhost:8080/",
     "height": 51
    },
    "colab_type": "code",
    "id": "ICkSRmN_jtYH",
    "outputId": "b96e5ad6-7c2a-454c-a75d-133f1f970019"
   },
   "outputs": [
    {
     "name": "stdout",
     "output_type": "stream",
     "text": [
      "(381109, 1)\n",
      "(127037, 1)\n"
     ]
    }
   ],
   "source": [
    "scaler = MinMaxScaler()\n",
    "scaler.fit(train_data['Vintage'].values.reshape(-1, 1))\n",
    "X_train_vintage = scaler.transform(train_data['Vintage'].values.reshape(-1, 1))\n",
    "X_test_vintage = scaler.transform(test_data['Vintage'].values.reshape(-1, 1))\n",
    "\n",
    "print(X_train_vintage.shape)\n",
    "print(X_test_vintage.shape)"
   ]
  },
  {
   "cell_type": "code",
   "execution_count": null,
   "metadata": {
    "colab": {
     "base_uri": "https://localhost:8080/",
     "height": 51
    },
    "colab_type": "code",
    "id": "UQUjlLZUkQsi",
    "outputId": "8da1e4e4-0096-457c-eac7-fa08c94ce584"
   },
   "outputs": [
    {
     "name": "stdout",
     "output_type": "stream",
     "text": [
      "(381109, 1)\n",
      "(127037, 1)\n"
     ]
    }
   ],
   "source": [
    "# no scaling\n",
    "\n",
    "X_train_vintage_n = train_data['Vintage'].values.reshape(-1, 1)\n",
    "X_test_vintage_n =  test_data['Vintage'].values.reshape(-1, 1)\n",
    "\n",
    "print(X_train_vintage_n.shape)\n",
    "print(X_test_vintage_n.shape)"
   ]
  },
  {
   "cell_type": "markdown",
   "metadata": {
    "colab_type": "text",
    "id": "2HQJvXK0lAM1"
   },
   "source": [
    "## 4. Stacking all the features together "
   ]
  },
  {
   "cell_type": "markdown",
   "metadata": {
    "colab_type": "text",
    "id": "C8dYzkRcZB6z"
   },
   "source": [
    "### Set 1: Label encoded + One hot encoded categorical features + scaled numerical features"
   ]
  },
  {
   "cell_type": "code",
   "execution_count": null,
   "metadata": {
    "colab": {},
    "colab_type": "code",
    "id": "Xvzf4_qQ1kBA"
   },
   "outputs": [],
   "source": [
    "y_train = train_data['Response'].values"
   ]
  },
  {
   "cell_type": "code",
   "execution_count": null,
   "metadata": {
    "colab": {
     "base_uri": "https://localhost:8080/",
     "height": 51
    },
    "colab_type": "code",
    "id": "wIglJvZHZTb9",
    "outputId": "f7011573-6a19-46f3-ebcb-393f603a21e6"
   },
   "outputs": [
    {
     "name": "stdout",
     "output_type": "stream",
     "text": [
      "train data shape: ((381109, 218), (381109,))\n",
      "test data shape: (127037, 218)\n"
     ]
    }
   ],
   "source": [
    "from scipy.sparse import hstack\n",
    "\n",
    "X_train_ohe = hstack((X_train_gender, X_train_age, X_train_license, X_train_region_code, X_train_prev_ins, \n",
    "                       X_train_vehicle_age, X_train_damage, X_train_premium, X_train_sales_chnl, X_train_vintage))\n",
    "\n",
    "X_test_ohe = hstack((X_test_gender, X_test_age, X_test_license, X_test_region_code, X_test_prev_ins, \n",
    "                      X_test_vehicle_age, X_test_damage, X_test_premium, X_test_sales_chnl, X_test_vintage)) \n",
    "\n",
    "print(\"train data shape:\", (X_train_ohe.shape, y_train.shape))\n",
    "print(\"test data shape:\", X_test_ohe.shape)"
   ]
  },
  {
   "cell_type": "markdown",
   "metadata": {
    "colab_type": "text",
    "id": "397pcE9oZOxs"
   },
   "source": [
    "### Set 2: Label encoded + Response encoded categorical features + numerical features"
   ]
  },
  {
   "cell_type": "code",
   "execution_count": null,
   "metadata": {
    "colab": {
     "base_uri": "https://localhost:8080/",
     "height": 51
    },
    "colab_type": "code",
    "id": "JjD51x9UkjvE",
    "outputId": "5882eac9-54da-49a1-f636-a2dd8caece20"
   },
   "outputs": [
    {
     "name": "stdout",
     "output_type": "stream",
     "text": [
      "train data shape: ((381109, 10), (381109,))\n",
      "test data shape: (127037, 10)\n"
     ]
    }
   ],
   "source": [
    "X_train_r = np.hstack((X_train_gender, X_train_age_n, X_train_age_cat, X_train_license, X_train_region_code_resp, X_train_prev_ins, \n",
    "                       X_train_vehicle_age_resp, X_train_damage, X_train_premium_n, X_train_sales_chnl_resp, X_train_vintage_n))\n",
    "\n",
    "X_test_r = np.hstack((X_test_gender, X_test_age_n, X_test_age_cat, X_test_license, X_test_region_code_resp, X_test_prev_ins, \n",
    "                      X_test_vehicle_age_resp, X_test_damage, X_test_premium_n, X_test_sales_chnl_resp, X_test_vintage_n)) \n",
    "\n",
    "print(\"train data shape:\", (X_train_r.shape, y_train.shape))\n",
    "print(\"test data shape:\", X_test_r.shape)"
   ]
  },
  {
   "cell_type": "markdown",
   "metadata": {
    "colab_type": "text",
    "id": "AtQeoW91oUJA"
   },
   "source": [
    "# 5. Building Machine Learning Models\n",
    "### (With Set 1 features)"
   ]
  },
  {
   "cell_type": "markdown",
   "metadata": {
    "colab_type": "text",
    "id": "MFMhzYDjobHo"
   },
   "source": [
    "## 5.1 Logistic Regression using SGD"
   ]
  },
  {
   "cell_type": "code",
   "execution_count": null,
   "metadata": {
    "colab": {
     "base_uri": "https://localhost:8080/",
     "height": 289
    },
    "colab_type": "code",
    "id": "qJPhQkHeokiH",
    "outputId": "eb76148a-f441-4eab-fa87-3a988d312e90"
   },
   "outputs": [
    {
     "data": {
      "text/plain": [
       "GridSearchCV(cv=5, error_score=nan,\n",
       "             estimator=SGDClassifier(alpha=0.0001, average=False,\n",
       "                                     class_weight='balanced',\n",
       "                                     early_stopping=False, epsilon=0.1,\n",
       "                                     eta0=0.0, fit_intercept=True,\n",
       "                                     l1_ratio=0.15, learning_rate='optimal',\n",
       "                                     loss='log', max_iter=1000,\n",
       "                                     n_iter_no_change=5, n_jobs=None,\n",
       "                                     penalty='l2', power_t=0.5,\n",
       "                                     random_state=None, shuffle=True, tol=0.001,\n",
       "                                     validation_fraction=0.1, verbose=0,\n",
       "                                     warm_start=False),\n",
       "             iid='deprecated', n_jobs=-1,\n",
       "             param_grid={'alpha': [0.001, 0.01, 0.1, 1, 10, 100, 1000]},\n",
       "             pre_dispatch='2*n_jobs', refit=True, return_train_score=True,\n",
       "             scoring='roc_auc', verbose=0)"
      ]
     },
     "execution_count": 26,
     "metadata": {
      "tags": []
     },
     "output_type": "execute_result"
    }
   ],
   "source": [
    "from sklearn.linear_model import SGDClassifier\n",
    "from sklearn.model_selection import GridSearchCV\n",
    "from sklearn.calibration import CalibratedClassifierCV\n",
    "\n",
    "sgd = SGDClassifier(loss = 'log', class_weight = 'balanced') # default penalty is L2 \n",
    "parameter = {'alpha': [0.001, 0.01, 0.1, 1, 10, 100, 1000]} # setting hyperparameter from 10^-3 to 10^3 in powers of 10\n",
    "clf = GridSearchCV(sgd, parameter, cv = 5, scoring = 'roc_auc', n_jobs = -1, return_train_score = True)\n",
    "clf.fit(X_train, y_train)"
   ]
  },
  {
   "cell_type": "code",
   "execution_count": null,
   "metadata": {
    "colab": {
     "base_uri": "https://localhost:8080/",
     "height": 283
    },
    "colab_type": "code",
    "id": "RFohjk60leK0",
    "outputId": "4a947f9f-9fb5-475d-a68a-0f7f897e4625"
   },
   "outputs": [
    {
     "data": {
      "image/png": "[encoded data removed]",
      "text/plain": [
       "<Figure size 432x288 with 1 Axes>"
      ]
     },
     "metadata": {
      "needs_background": "light",
      "tags": []
     },
     "output_type": "display_data"
    }
   ],
   "source": [
    "# Plotting AUC_Scores for train data and CV data to determine optimal hyperparameter\n",
    "\n",
    "train_loss = clf.cv_results_['mean_train_score']\n",
    "cv_loss = clf.cv_results_['mean_test_score'] \n",
    "plt.plot(parameter['alpha'], train_loss, label = 'Train score')\n",
    "plt.plot(parameter['alpha'], cv_loss, label = 'CV score')\n",
    "\n",
    "plt.scatter(parameter['alpha'], train_loss, label = 'Train score')\n",
    "plt.scatter(parameter['alpha'], cv_loss, label = 'CV score')\n",
    "plt.xscale('log') \n",
    "\n",
    "plt.legend()\n",
    "plt.xlabel(\"hyperparameter: alpha\")\n",
    "plt.ylabel(\"AUC Score\")\n",
    "plt.grid()\n",
    "plt.show()"
   ]
  },
  {
   "cell_type": "markdown",
   "metadata": {
    "colab_type": "text",
    "id": "l4dkjeaje4ni"
   },
   "source": [
    "#### With only L1 regularization"
   ]
  },
  {
   "cell_type": "code",
   "execution_count": null,
   "metadata": {
    "colab": {
     "base_uri": "https://localhost:8080/",
     "height": 272
    },
    "colab_type": "code",
    "id": "qJWjlFIlcofQ",
    "outputId": "42704b06-ef36-4508-95da-ab451c7de54e"
   },
   "outputs": [
    {
     "data": {
      "text/plain": [
       "GridSearchCV(cv=5, error_score=nan,\n",
       "             estimator=SGDClassifier(alpha=0.0001, average=False,\n",
       "                                     class_weight='balanced',\n",
       "                                     early_stopping=False, epsilon=0.1,\n",
       "                                     eta0=0.0, fit_intercept=True, l1_ratio=1,\n",
       "                                     learning_rate='optimal', loss='log',\n",
       "                                     max_iter=1000, n_iter_no_change=5,\n",
       "                                     n_jobs=None, penalty='l2', power_t=0.5,\n",
       "                                     random_state=None, shuffle=True, tol=0.001,\n",
       "                                     validation_fraction=0.1, verbose=0,\n",
       "                                     warm_start=False),\n",
       "             iid='deprecated', n_jobs=-1,\n",
       "             param_grid={'alpha': [0.0001, 0.001, 0.01, 0.1, 1, 10, 100]},\n",
       "             pre_dispatch='2*n_jobs', refit=True, return_train_score=True,\n",
       "             scoring='roc_auc', verbose=0)"
      ]
     },
     "execution_count": 33,
     "metadata": {
      "tags": []
     },
     "output_type": "execute_result"
    }
   ],
   "source": [
    "sgd = SGDClassifier(loss = 'log', class_weight = 'balanced',  l1_ratio = 1 ) \n",
    "parameter = {'alpha': [0.0001, 0.001, 0.01, 0.1, 1, 10, 100]} # setting hyperparameter from 10^-3 to 10^3 in powers of 10\n",
    "clf = GridSearchCV(sgd, parameter, cv = 5, scoring = 'roc_auc', n_jobs = -1, return_train_score = True)\n",
    "clf.fit(X_train, y_train)"
   ]
  },
  {
   "cell_type": "code",
   "execution_count": null,
   "metadata": {
    "colab": {
     "base_uri": "https://localhost:8080/",
     "height": 285
    },
    "colab_type": "code",
    "id": "oRyZzgWieDV3",
    "outputId": "bf2070ec-6d46-4506-b541-3b774d29617c"
   },
   "outputs": [
    {
     "data": {
      "image/png": "[encoded data removed]",
      "text/plain": [
       "<Figure size 432x288 with 1 Axes>"
      ]
     },
     "metadata": {
      "needs_background": "light",
      "tags": []
     },
     "output_type": "display_data"
    }
   ],
   "source": [
    "# Plotting AUC_Scores for train data and CV data to determine optimal hyperparameter\n",
    "\n",
    "train_loss = clf.cv_results_['mean_train_score']\n",
    "cv_loss = clf.cv_results_['mean_test_score'] \n",
    "plt.plot(parameter['alpha'], train_loss, label = 'Train score')\n",
    "plt.plot(parameter['alpha'], cv_loss, label = 'CV score')\n",
    "\n",
    "plt.scatter(parameter['alpha'], train_loss, label = 'Train score')\n",
    "plt.scatter(parameter['alpha'], cv_loss, label = 'CV score')\n",
    "plt.xscale('log') \n",
    "\n",
    "plt.legend()\n",
    "plt.xlabel(\"hyperparameter: alpha\")\n",
    "plt.ylabel(\"AUC Score\")\n",
    "plt.grid()\n",
    "plt.show()"
   ]
  },
  {
   "cell_type": "markdown",
   "metadata": {
    "colab_type": "text",
    "id": "EPobkZULgBll"
   },
   "source": [
    "## 5.2 Linear SVM Classifier using SGD"
   ]
  },
  {
   "cell_type": "code",
   "execution_count": null,
   "metadata": {
    "colab": {
     "base_uri": "https://localhost:8080/",
     "height": 289
    },
    "colab_type": "code",
    "id": "FQWganRbgAVI",
    "outputId": "23504ab9-85a8-492b-b60f-94c0e263df8e"
   },
   "outputs": [
    {
     "data": {
      "text/plain": [
       "GridSearchCV(cv=5, error_score=nan,\n",
       "             estimator=SGDClassifier(alpha=0.0001, average=False,\n",
       "                                     class_weight='balanced',\n",
       "                                     early_stopping=False, epsilon=0.1,\n",
       "                                     eta0=0.0, fit_intercept=True,\n",
       "                                     l1_ratio=0.15, learning_rate='optimal',\n",
       "                                     loss='hinge', max_iter=1000,\n",
       "                                     n_iter_no_change=5, n_jobs=None,\n",
       "                                     penalty='l2', power_t=0.5,\n",
       "                                     random_state=None, shuffle=True, tol=0.001,\n",
       "                                     validation_fraction=0.1, verbose=0,\n",
       "                                     warm_start=False),\n",
       "             iid='deprecated', n_jobs=-1,\n",
       "             param_grid={'alpha': [0.0001, 0.001, 0.01, 0.1, 1, 10, 100]},\n",
       "             pre_dispatch='2*n_jobs', refit=True, return_train_score=True,\n",
       "             scoring='roc_auc', verbose=0)"
      ]
     },
     "execution_count": 35,
     "metadata": {
      "tags": []
     },
     "output_type": "execute_result"
    }
   ],
   "source": [
    "sgd = SGDClassifier(loss = 'hinge', class_weight = 'balanced') \n",
    "parameter = {'alpha': [0.0001, 0.001, 0.01, 0.1, 1, 10, 100]} # setting hyperparameter from 10^-3 to 10^3 in powers of 10\n",
    "clf = GridSearchCV(sgd, parameter, cv = 5, scoring = 'roc_auc', n_jobs = -1, return_train_score = True)\n",
    "clf.fit(X_train, y_train)"
   ]
  },
  {
   "cell_type": "code",
   "execution_count": null,
   "metadata": {
    "colab": {
     "base_uri": "https://localhost:8080/",
     "height": 283
    },
    "colab_type": "code",
    "id": "z37MkShqgQUQ",
    "outputId": "0c75c176-25d2-4759-fbfc-23a82b3f7d43"
   },
   "outputs": [
    {
     "data": {
      "image/png": "[encoded data removed]",
      "text/plain": [
       "<Figure size 432x288 with 1 Axes>"
      ]
     },
     "metadata": {
      "needs_background": "light",
      "tags": []
     },
     "output_type": "display_data"
    }
   ],
   "source": [
    "# Plotting AUC_Scores for train data and CV data to determine optimal hyperparameter\n",
    "\n",
    "train_loss = clf.cv_results_['mean_train_score']\n",
    "cv_loss = clf.cv_results_['mean_test_score'] \n",
    "plt.plot(parameter['alpha'], train_loss, label = 'Train score')\n",
    "plt.plot(parameter['alpha'], cv_loss, label = 'CV score')\n",
    "\n",
    "plt.scatter(parameter['alpha'], train_loss, label = 'Train score')\n",
    "plt.scatter(parameter['alpha'], cv_loss, label = 'CV score')\n",
    "plt.xscale('log') \n",
    "\n",
    "plt.legend()\n",
    "plt.xlabel(\"hyperparameter: alpha\")\n",
    "plt.ylabel(\"AUC Score\")\n",
    "plt.grid()\n",
    "plt.show()"
   ]
  },
  {
   "cell_type": "markdown",
   "metadata": {
    "colab_type": "text",
    "id": "EtiHEXn1gXT3"
   },
   "source": [
    "### Logistic Regression with default parameters"
   ]
  },
  {
   "cell_type": "code",
   "execution_count": null,
   "metadata": {
    "colab": {
     "base_uri": "https://localhost:8080/",
     "height": 34
    },
    "colab_type": "code",
    "id": "3FYuO73kfd8A",
    "outputId": "193dc7f9-c046-4460-f9ea-eb6fe06510ca"
   },
   "outputs": [
    {
     "name": "stdout",
     "output_type": "stream",
     "text": [
      "Train Score: 0.8384389356104578\n"
     ]
    }
   ],
   "source": [
    "from sklearn.metrics import roc_auc_score\n",
    "\n",
    "sgd_clf = SGDClassifier(loss = 'log', class_weight= 'balanced', random_state = 42) # default penalty is L2\n",
    "sgd_clf.fit(X_train, y_train)\n",
    "sig_clf = CalibratedClassifierCV(sgd_clf, method = \"sigmoid\")\n",
    "sig_clf.fit(X_train, y_train)\n",
    "\n",
    "y_pred_train = sig_clf.predict_proba(X_train)\n",
    "y_pred_test = sig_clf.predict_proba(X_test)\n",
    "\n",
    "print(\"Train Score:\", roc_auc_score(y_train, y_pred_train[:, 1]))"
   ]
  },
  {
   "cell_type": "code",
   "execution_count": null,
   "metadata": {
    "colab": {
     "base_uri": "https://localhost:8080/",
     "height": 204
    },
    "colab_type": "code",
    "id": "OjXt4lQZkQKk",
    "outputId": "a022ffec-a7a6-41d2-9002-4baabbae8cc6"
   },
   "outputs": [
    {
     "data": {
      "text/html": [
       "<div>\n",
       "<style scoped>\n",
       "    .dataframe tbody tr th:only-of-type {\n",
       "        vertical-align: middle;\n",
       "    }\n",
       "\n",
       "    .dataframe tbody tr th {\n",
       "        vertical-align: top;\n",
       "    }\n",
       "\n",
       "    .dataframe thead th {\n",
       "        text-align: right;\n",
       "    }\n",
       "</style>\n",
       "<table border=\"1\" class=\"dataframe\">\n",
       "  <thead>\n",
       "    <tr style=\"text-align: right;\">\n",
       "      <th></th>\n",
       "      <th>id</th>\n",
       "      <th>Response</th>\n",
       "    </tr>\n",
       "  </thead>\n",
       "  <tbody>\n",
       "    <tr>\n",
       "      <th>0</th>\n",
       "      <td>381110</td>\n",
       "      <td>0.005470</td>\n",
       "    </tr>\n",
       "    <tr>\n",
       "      <th>1</th>\n",
       "      <td>381111</td>\n",
       "      <td>0.320437</td>\n",
       "    </tr>\n",
       "    <tr>\n",
       "      <th>2</th>\n",
       "      <td>381112</td>\n",
       "      <td>0.279726</td>\n",
       "    </tr>\n",
       "    <tr>\n",
       "      <th>3</th>\n",
       "      <td>381113</td>\n",
       "      <td>0.113913</td>\n",
       "    </tr>\n",
       "    <tr>\n",
       "      <th>4</th>\n",
       "      <td>381114</td>\n",
       "      <td>0.003850</td>\n",
       "    </tr>\n",
       "  </tbody>\n",
       "</table>\n",
       "</div>"
      ],
      "text/plain": [
       "       id  Response\n",
       "0  381110  0.005470\n",
       "1  381111  0.320437\n",
       "2  381112  0.279726\n",
       "3  381113  0.113913\n",
       "4  381114  0.003850"
      ]
     },
     "execution_count": 50,
     "metadata": {
      "tags": []
     },
     "output_type": "execute_result"
    }
   ],
   "source": [
    "sgd_df = pd.DataFrame(data = {'id':test_data['id'], 'Response':y_pred_test[:, 1]})\n",
    "sgd_df.head()"
   ]
  },
  {
   "cell_type": "code",
   "execution_count": null,
   "metadata": {
    "colab": {},
    "colab_type": "code",
    "id": "BC-uC7MSlDDu"
   },
   "outputs": [],
   "source": [
    "sgd_df.to_csv(my_path + 'logistic_sgd_l2_10e-4.csv', index = False)"
   ]
  },
  {
   "cell_type": "markdown",
   "metadata": {
    "colab_type": "text",
    "id": "x1Qwzv64exxc"
   },
   "source": [
    "#### Without Region code, Policy Sales Channel and Driving license features (Experimental set)"
   ]
  },
  {
   "cell_type": "code",
   "execution_count": null,
   "metadata": {
    "colab": {
     "base_uri": "https://localhost:8080/",
     "height": 51
    },
    "colab_type": "code",
    "id": "1deMTbI-njA-",
    "outputId": "d4265027-3585-488f-db49-18fb6a9bf175"
   },
   "outputs": [
    {
     "name": "stdout",
     "output_type": "stream",
     "text": [
      "(381109, 9) (381109,)\n",
      "(127037, 9)\n"
     ]
    }
   ],
   "source": [
    "from scipy.sparse import hstack\n",
    "\n",
    "X_train1 = hstack((X_train_gender, X_train_age, X_train_prev_ins, \n",
    "                  X_train_vehicle_age, X_train_damage, X_train_premium, X_train_vintage))\n",
    "\n",
    "X_test1 = hstack((X_test_gender, X_test_age, X_test_prev_ins, \n",
    "                  X_test_vehicle_age, X_test_damage, X_test_premium,X_test_vintage)) \n",
    "\n",
    "print(X_train1.shape, y_train.shape) \n",
    "print(X_test1.shape)        "
   ]
  },
  {
   "cell_type": "code",
   "execution_count": null,
   "metadata": {
    "colab": {
     "base_uri": "https://localhost:8080/",
     "height": 272
    },
    "colab_type": "code",
    "id": "9Qxwn-LweRgQ",
    "outputId": "09c060c2-6805-4aa9-fffc-036f4c2348ed"
   },
   "outputs": [
    {
     "data": {
      "text/plain": [
       "GridSearchCV(cv=5, error_score=nan,\n",
       "             estimator=SGDClassifier(alpha=0.0001, average=False,\n",
       "                                     class_weight='balanced',\n",
       "                                     early_stopping=False, epsilon=0.1,\n",
       "                                     eta0=0.0, fit_intercept=True, l1_ratio=1,\n",
       "                                     learning_rate='optimal', loss='log',\n",
       "                                     max_iter=1000, n_iter_no_change=5,\n",
       "                                     n_jobs=None, penalty='l2', power_t=0.5,\n",
       "                                     random_state=42, shuffle=True, tol=0.001,\n",
       "                                     validation_fraction=0.1, verbose=0,\n",
       "                                     warm_start=False),\n",
       "             iid='deprecated', n_jobs=-1,\n",
       "             param_grid={'alpha': [0.0001, 0.001, 0.01, 0.1, 1, 10, 100]},\n",
       "             pre_dispatch='2*n_jobs', refit=True, return_train_score=True,\n",
       "             scoring='roc_auc', verbose=0)"
      ]
     },
     "execution_count": 56,
     "metadata": {
      "tags": []
     },
     "output_type": "execute_result"
    }
   ],
   "source": [
    "sgd = SGDClassifier(loss = 'log', class_weight = 'balanced', random_state = 42) # default penalty is L2 \n",
    "parameter = {'alpha': [0.0001, 0.001, 0.01, 0.1, 1, 10, 100]} # setting hyperparameter from 10^-3 to 10^3 in powers of 10\n",
    "clf = GridSearchCV(sgd, parameter, cv = 5, scoring = 'roc_auc', n_jobs = -1, return_train_score = True)\n",
    "clf.fit(X_train1, y_train)"
   ]
  },
  {
   "cell_type": "code",
   "execution_count": null,
   "metadata": {
    "colab": {
     "base_uri": "https://localhost:8080/",
     "height": 283
    },
    "colab_type": "code",
    "id": "01qfk4GToFJj",
    "outputId": "dd70b23a-c419-4424-b8a2-6f2baf9ba5dc"
   },
   "outputs": [
    {
     "data": {
      "image/png": "[encoded data removed]",
      "text/plain": [
       "<Figure size 432x288 with 1 Axes>"
      ]
     },
     "metadata": {
      "needs_background": "light",
      "tags": []
     },
     "output_type": "display_data"
    }
   ],
   "source": [
    "# Plotting AUC_Scores for train data and CV data to determine optimal hyperparameter\n",
    "\n",
    "train_loss = clf.cv_results_['mean_train_score']\n",
    "cv_loss = clf.cv_results_['mean_test_score'] \n",
    "plt.plot(parameter['alpha'], train_loss, label = 'Train score')\n",
    "plt.plot(parameter['alpha'], cv_loss, label = 'CV score')\n",
    "\n",
    "plt.scatter(parameter['alpha'], train_loss, label = 'Train score')\n",
    "plt.scatter(parameter['alpha'], cv_loss, label = 'CV score')\n",
    "plt.xscale('log') \n",
    "\n",
    "plt.legend()\n",
    "plt.xlabel(\"hyperparameter: alpha\")\n",
    "plt.ylabel(\"AUC Score\")\n",
    "plt.grid()\n",
    "plt.show()"
   ]
  },
  {
   "cell_type": "markdown",
   "metadata": {
    "colab_type": "text",
    "id": "5KLcUueyria0"
   },
   "source": [
    "## 5.3. Multinomial Naive Bayes "
   ]
  },
  {
   "cell_type": "code",
   "execution_count": null,
   "metadata": {
    "colab": {
     "base_uri": "https://localhost:8080/",
     "height": 136
    },
    "colab_type": "code",
    "id": "LfApBZ91saSb",
    "outputId": "95d86a35-6c54-46e9-f79a-24bb1e223116"
   },
   "outputs": [
    {
     "data": {
      "text/plain": [
       "GridSearchCV(cv=5, error_score=nan,\n",
       "             estimator=MultinomialNB(alpha=1.0, class_prior=None,\n",
       "                                     fit_prior=True),\n",
       "             iid='deprecated', n_jobs=-1,\n",
       "             param_grid={'alpha': [0.0001, 0.001, 0.01, 0.1, 1, 10, 100, 1000]},\n",
       "             pre_dispatch='2*n_jobs', refit=True, return_train_score=True,\n",
       "             scoring='roc_auc', verbose=0)"
      ]
     },
     "execution_count": 58,
     "metadata": {
      "tags": []
     },
     "output_type": "execute_result"
    }
   ],
   "source": [
    "from sklearn.naive_bayes import MultinomialNB\n",
    "\n",
    "mul_NB = MultinomialNB() \n",
    "parameters = {'alpha' :[0.0001,0.001,0.01,0.1,1,10,100,1000]}\n",
    "clf = GridSearchCV(mul_NB, parameters, cv = 5, scoring = 'roc_auc', n_jobs = -1, return_train_score = True)\n",
    "clf.fit(X_train, y_train)"
   ]
  },
  {
   "cell_type": "code",
   "execution_count": null,
   "metadata": {
    "colab": {
     "base_uri": "https://localhost:8080/",
     "height": 299
    },
    "colab_type": "code",
    "id": "VrAZ8ms4saSx",
    "outputId": "ece4a585-e10f-4905-9eb6-bbc57175bd0b"
   },
   "outputs": [
    {
     "data": {
      "image/png": "[encoded data removed]",
      "text/plain": [
       "<Figure size 432x288 with 1 Axes>"
      ]
     },
     "metadata": {
      "needs_background": "light",
      "tags": []
     },
     "output_type": "display_data"
    }
   ],
   "source": [
    "# Plotting AUC_Scores for train data and CV data to determine optimal hyperparameter\n",
    "\n",
    "train_auc= clf.cv_results_['mean_train_score']\n",
    "cv_auc = clf.cv_results_['mean_test_score'] \n",
    "plt.plot(parameters['alpha'], train_auc, label = 'Train AUC')\n",
    "plt.plot(parameters['alpha'], cv_auc, label = 'CV AUC')\n",
    "\n",
    "plt.scatter(parameters['alpha'], train_auc, label = 'Train AUC points')\n",
    "plt.scatter(parameters['alpha'], cv_auc, label = 'CV AUC points')\n",
    "plt.xscale('log') \n",
    "\n",
    "plt.legend()\n",
    "plt.xlabel(\"hyperparameter: alpha\")\n",
    "plt.ylabel(\"AUC\")\n",
    "plt.title(\"AUC Scores\")\n",
    "plt.grid()\n",
    "plt.show()"
   ]
  },
  {
   "cell_type": "markdown",
   "metadata": {
    "colab_type": "text",
    "id": "UiRW22QiOsuD"
   },
   "source": [
    "## 5.4. Baseline RandomForest"
   ]
  },
  {
   "cell_type": "code",
   "execution_count": null,
   "metadata": {
    "colab": {},
    "colab_type": "code",
    "id": "YEC8emELOr8P"
   },
   "outputs": [],
   "source": [
    "from sklearn.model_selection import GridSearchCV\n",
    "from sklearn.calibration import CalibratedClassifierCV\n",
    "from sklearn.ensemble import RandomForestClassifier\n",
    "\n",
    "rfc = RandomForestClassifier() \n",
    "rfc.fit(X_train, y_train)\n",
    "sig_clf = CalibratedClassifierCV(rfc, method = \"sigmoid\")\n",
    "sig_clf.fit(X_train, y_train)\n",
    "\n",
    "y_pred_train = sig_clf.predict_proba(X_train)\n",
    "y_pred_test = sig_clf.predict_proba(X_test)\n",
    "\n",
    "print(\"Train Score:\", roc_auc_score(y_train, y_pred_train[:, 1]))"
   ]
  },
  {
   "cell_type": "code",
   "execution_count": null,
   "metadata": {
    "colab": {
     "base_uri": "https://localhost:8080/",
     "height": 34
    },
    "colab_type": "code",
    "id": "zM95p68p5cDy",
    "outputId": "8a253a8f-bc3e-4b48-fb1a-5a3130dc14c1"
   },
   "outputs": [
    {
     "name": "stdout",
     "output_type": "stream",
     "text": [
      "Train Score: 0.9999986429704083\n"
     ]
    }
   ],
   "source": [
    "print(\"Train Score:\", roc_auc_score(y_train, y_pred_train[:, 1]))"
   ]
  },
  {
   "cell_type": "markdown",
   "metadata": {
    "colab_type": "text",
    "id": "yE-3n9co7PMj"
   },
   "source": [
    "As we can see, this is highly overfitting. We need to hyperparameter tuining to reduce overfitting."
   ]
  },
  {
   "cell_type": "code",
   "execution_count": null,
   "metadata": {
    "colab": {
     "base_uri": "https://localhost:8080/",
     "height": 204
    },
    "colab_type": "code",
    "id": "DfPX2Y0uGUik",
    "outputId": "75cc00fb-56dc-4bcf-a08e-3aeea44f3005"
   },
   "outputs": [
    {
     "data": {
      "text/html": [
       "<div>\n",
       "<style scoped>\n",
       "    .dataframe tbody tr th:only-of-type {\n",
       "        vertical-align: middle;\n",
       "    }\n",
       "\n",
       "    .dataframe tbody tr th {\n",
       "        vertical-align: top;\n",
       "    }\n",
       "\n",
       "    .dataframe thead th {\n",
       "        text-align: right;\n",
       "    }\n",
       "</style>\n",
       "<table border=\"1\" class=\"dataframe\">\n",
       "  <thead>\n",
       "    <tr style=\"text-align: right;\">\n",
       "      <th></th>\n",
       "      <th>id</th>\n",
       "      <th>Response</th>\n",
       "    </tr>\n",
       "  </thead>\n",
       "  <tbody>\n",
       "    <tr>\n",
       "      <th>0</th>\n",
       "      <td>381110</td>\n",
       "      <td>0.053837</td>\n",
       "    </tr>\n",
       "    <tr>\n",
       "      <th>1</th>\n",
       "      <td>381111</td>\n",
       "      <td>0.318576</td>\n",
       "    </tr>\n",
       "    <tr>\n",
       "      <th>2</th>\n",
       "      <td>381112</td>\n",
       "      <td>0.090398</td>\n",
       "    </tr>\n",
       "    <tr>\n",
       "      <th>3</th>\n",
       "      <td>381113</td>\n",
       "      <td>0.220024</td>\n",
       "    </tr>\n",
       "    <tr>\n",
       "      <th>4</th>\n",
       "      <td>381114</td>\n",
       "      <td>0.053837</td>\n",
       "    </tr>\n",
       "  </tbody>\n",
       "</table>\n",
       "</div>"
      ],
      "text/plain": [
       "       id  Response\n",
       "0  381110  0.053837\n",
       "1  381111  0.318576\n",
       "2  381112  0.090398\n",
       "3  381113  0.220024\n",
       "4  381114  0.053837"
      ]
     },
     "execution_count": 24,
     "metadata": {
      "tags": []
     },
     "output_type": "execute_result"
    }
   ],
   "source": [
    "rfc_baseline_df = pd.DataFrame(data = {'id':test_data['id'], 'Response':y_pred_test[:, 1]})\n",
    "rfc_baseline_df.head()"
   ]
  },
  {
   "cell_type": "code",
   "execution_count": null,
   "metadata": {
    "colab": {},
    "colab_type": "code",
    "id": "br4NDaugGUi6"
   },
   "outputs": [],
   "source": [
    "rfc_baseline_df.to_csv(my_path + 'rfc_baseline_ohe.csv', index = False)"
   ]
  },
  {
   "cell_type": "markdown",
   "metadata": {
    "colab_type": "text",
    "id": "udZWEgxPM_H1"
   },
   "source": [
    "### Random Forest (without hyperparameter tuning)\n",
    "\n",
    "#### With some random hyperparameter values from past experience to reduce overfitting."
   ]
  },
  {
   "cell_type": "code",
   "execution_count": null,
   "metadata": {
    "colab": {
     "base_uri": "https://localhost:8080/",
     "height": 34
    },
    "colab_type": "code",
    "id": "Xt2n8vFEM_kZ",
    "outputId": "6d391d41-4a2e-430e-ffd6-9f3e023d28df"
   },
   "outputs": [
    {
     "name": "stdout",
     "output_type": "stream",
     "text": [
      "Train Score: 0.8706699397824769\n"
     ]
    }
   ],
   "source": [
    "rfc = RandomForestClassifier(n_estimators = 250, max_depth = 15, random_state = 101, n_jobs = -1) \n",
    "rfc.fit(X_train, y_train)\n",
    "sig_clf = CalibratedClassifierCV(rfc, method = \"sigmoid\")\n",
    "sig_clf.fit(X_train, y_train)\n",
    "\n",
    "y_pred_train = sig_clf.predict_proba(X_train)\n",
    "y_pred_test = sig_clf.predict_proba(X_test)\n",
    "\n",
    "print(\"Train Score:\", roc_auc_score(y_train, y_pred_train[:, 1]))"
   ]
  },
  {
   "cell_type": "code",
   "execution_count": null,
   "metadata": {
    "colab": {
     "base_uri": "https://localhost:8080/",
     "height": 204
    },
    "colab_type": "code",
    "id": "fQsuVo7qM_ki",
    "outputId": "3ad1c6cd-1c3e-4efc-c951-fc3812455c6e"
   },
   "outputs": [
    {
     "data": {
      "text/html": [
       "<div>\n",
       "<style scoped>\n",
       "    .dataframe tbody tr th:only-of-type {\n",
       "        vertical-align: middle;\n",
       "    }\n",
       "\n",
       "    .dataframe tbody tr th {\n",
       "        vertical-align: top;\n",
       "    }\n",
       "\n",
       "    .dataframe thead th {\n",
       "        text-align: right;\n",
       "    }\n",
       "</style>\n",
       "<table border=\"1\" class=\"dataframe\">\n",
       "  <thead>\n",
       "    <tr style=\"text-align: right;\">\n",
       "      <th></th>\n",
       "      <th>id</th>\n",
       "      <th>Response</th>\n",
       "    </tr>\n",
       "  </thead>\n",
       "  <tbody>\n",
       "    <tr>\n",
       "      <th>0</th>\n",
       "      <td>381110</td>\n",
       "      <td>0.013672</td>\n",
       "    </tr>\n",
       "    <tr>\n",
       "      <th>1</th>\n",
       "      <td>381111</td>\n",
       "      <td>0.304592</td>\n",
       "    </tr>\n",
       "    <tr>\n",
       "      <th>2</th>\n",
       "      <td>381112</td>\n",
       "      <td>0.288714</td>\n",
       "    </tr>\n",
       "    <tr>\n",
       "      <th>3</th>\n",
       "      <td>381113</td>\n",
       "      <td>0.040469</td>\n",
       "    </tr>\n",
       "    <tr>\n",
       "      <th>4</th>\n",
       "      <td>381114</td>\n",
       "      <td>0.013856</td>\n",
       "    </tr>\n",
       "  </tbody>\n",
       "</table>\n",
       "</div>"
      ],
      "text/plain": [
       "       id  Response\n",
       "0  381110  0.013672\n",
       "1  381111  0.304592\n",
       "2  381112  0.288714\n",
       "3  381113  0.040469\n",
       "4  381114  0.013856"
      ]
     },
     "execution_count": 30,
     "metadata": {
      "tags": []
     },
     "output_type": "execute_result"
    }
   ],
   "source": [
    "rfc_notuning_df = pd.DataFrame(data = {'id':test_data['id'], 'Response':y_pred_test[:, 1]})\n",
    "rfc_notuning_df.head()"
   ]
  },
  {
   "cell_type": "code",
   "execution_count": null,
   "metadata": {
    "colab": {},
    "colab_type": "code",
    "id": "pzfgGTIRM_km"
   },
   "outputs": [],
   "source": [
    "rfc_notuning_df.to_csv(my_path + 'rfc_notuning_ohe.csv', index = False)"
   ]
  },
  {
   "cell_type": "markdown",
   "metadata": {
    "colab_type": "text",
    "id": "hEyhXrtg-9Nt"
   },
   "source": [
    "## 5.5. XGBoost Classifier (without hyperparameter tuning)"
   ]
  },
  {
   "cell_type": "code",
   "execution_count": null,
   "metadata": {
    "colab": {
     "base_uri": "https://localhost:8080/",
     "height": 34
    },
    "colab_type": "code",
    "id": "MwbZV0Cc-7hk",
    "outputId": "c8ac9fb6-2099-4ebf-bd47-c0a9a29d5eba"
   },
   "outputs": [
    {
     "name": "stdout",
     "output_type": "stream",
     "text": [
      "Train Score: 0.8890019875244968\n"
     ]
    }
   ],
   "source": [
    "from xgboost.sklearn import XGBClassifier\n",
    "from sklearn.model_selection import GridSearchCV\n",
    "\n",
    "xgb = XGBClassifier(n_estimators = 150, max_depth = 11, colsample_bytree = 0.6, class_ n_jobs = -1, random_state = 21)\n",
    "xgb.fit(X_train, y_train)\n",
    "sig_clf = CalibratedClassifierCV(xgb, method = \"sigmoid\")\n",
    "sig_clf.fit(X_train, y_train)\n",
    "\n",
    "y_pred_train = sig_clf.predict_proba(X_train)\n",
    "y_pred_test = sig_clf.predict_proba(X_test)\n",
    "\n",
    "print(\"Train Score:\", roc_auc_score(y_train, y_pred_train[:, 1]))"
   ]
  },
  {
   "cell_type": "markdown",
   "metadata": {
    "colab_type": "text",
    "id": "u-7v0Qvi-7hz"
   },
   "source": [
    "There values of hypermeter are from my previous experience. We still need to do hyperparameter tuning for a better optimal solution. "
   ]
  },
  {
   "cell_type": "code",
   "execution_count": null,
   "metadata": {
    "colab": {
     "base_uri": "https://localhost:8080/",
     "height": 204
    },
    "colab_type": "code",
    "id": "bd9l7Vn_-7h0",
    "outputId": "acf34203-011a-4f48-ee5f-c33345be6935"
   },
   "outputs": [
    {
     "data": {
      "text/html": [
       "<div>\n",
       "<style scoped>\n",
       "    .dataframe tbody tr th:only-of-type {\n",
       "        vertical-align: middle;\n",
       "    }\n",
       "\n",
       "    .dataframe tbody tr th {\n",
       "        vertical-align: top;\n",
       "    }\n",
       "\n",
       "    .dataframe thead th {\n",
       "        text-align: right;\n",
       "    }\n",
       "</style>\n",
       "<table border=\"1\" class=\"dataframe\">\n",
       "  <thead>\n",
       "    <tr style=\"text-align: right;\">\n",
       "      <th></th>\n",
       "      <th>id</th>\n",
       "      <th>Response</th>\n",
       "    </tr>\n",
       "  </thead>\n",
       "  <tbody>\n",
       "    <tr>\n",
       "      <th>0</th>\n",
       "      <td>381110</td>\n",
       "      <td>0.026612</td>\n",
       "    </tr>\n",
       "    <tr>\n",
       "      <th>1</th>\n",
       "      <td>381111</td>\n",
       "      <td>0.279585</td>\n",
       "    </tr>\n",
       "    <tr>\n",
       "      <th>2</th>\n",
       "      <td>381112</td>\n",
       "      <td>0.246641</td>\n",
       "    </tr>\n",
       "    <tr>\n",
       "      <th>3</th>\n",
       "      <td>381113</td>\n",
       "      <td>0.075442</td>\n",
       "    </tr>\n",
       "    <tr>\n",
       "      <th>4</th>\n",
       "      <td>381114</td>\n",
       "      <td>0.026452</td>\n",
       "    </tr>\n",
       "  </tbody>\n",
       "</table>\n",
       "</div>"
      ],
      "text/plain": [
       "       id  Response\n",
       "0  381110  0.026612\n",
       "1  381111  0.279585\n",
       "2  381112  0.246641\n",
       "3  381113  0.075442\n",
       "4  381114  0.026452"
      ]
     },
     "execution_count": 27,
     "metadata": {
      "tags": []
     },
     "output_type": "execute_result"
    }
   ],
   "source": [
    "xgb_notuning_df = pd.DataFrame(data = {'id':test_data['id'], 'Response':y_pred_test[:, 1]})\n",
    "xgb_notuning_df.head()"
   ]
  },
  {
   "cell_type": "code",
   "execution_count": null,
   "metadata": {
    "colab": {},
    "colab_type": "code",
    "id": "42DNQxsP-7h3"
   },
   "outputs": [],
   "source": [
    "xgb_notuning_df.to_csv(my_path + 'xgb_notuning_ohe.csv', index = False)"
   ]
  },
  {
   "cell_type": "markdown",
   "metadata": {
    "colab_type": "text",
    "id": "8xtmn8Ll2d1E"
   },
   "source": [
    "# 6. Building Machine Learning Models\n",
    "### With Set 2 features"
   ]
  },
  {
   "cell_type": "code",
   "execution_count": null,
   "metadata": {
    "colab": {},
    "colab_type": "code",
    "id": "DZT7nnFV7kxN"
   },
   "outputs": [],
   "source": [
    "# roc plot \n",
    "from sklearn.metrics import auc\n",
    "\n",
    "def plot_ROC(fpr, tpr):\n",
    "    roc_auc = auc(fpr, tpr)\n",
    "    plt.figure(figsize = (5, 5))\n",
    "    plt.plot(fpr, tpr, color = 'darkorange', label = 'ROC curve (area = %0.3f)' % roc_auc, alpha = 0.7)\n",
    "    plt.plot([0, 1], [0, 1], color = 'navy', linestyle = '--', alpha = 0.5)\n",
    "    \n",
    "    plt.xlim([0.0, 1.0])\n",
    "    plt.ylim([0.0, 1.05])\n",
    "    plt.xticks(fontsize = 12)\n",
    "    plt.yticks(fontsize = 12)\n",
    "    plt.grid()\n",
    "    plt.xlabel('False Positive Rate', fontsize = 12)\n",
    "    plt.ylabel('True Positive Rate', fontsize = 12)\n",
    "    plt.title('Receiver Operating Characteristic', fontsize = 16)\n",
    "    plt.legend(loc = \"lower right\", fontsize = 12)\n",
    "    plt.show()"
   ]
  },
  {
   "cell_type": "markdown",
   "metadata": {
    "colab_type": "text",
    "id": "pIKIOOIuYuNg"
   },
   "source": [
    "## 6.1 LightGBM (without hyperparameter tuning)"
   ]
  },
  {
   "cell_type": "code",
   "execution_count": null,
   "metadata": {
    "colab": {
     "base_uri": "https://localhost:8080/",
     "height": 34
    },
    "colab_type": "code",
    "id": "WmFo_fvW-WIc",
    "outputId": "018857c9-e3f4-4170-cdcd-4c6a877bf829"
   },
   "outputs": [
    {
     "name": "stdout",
     "output_type": "stream",
     "text": [
      "Train Score: 0.8685927288915909\n"
     ]
    }
   ],
   "source": [
    "from lightgbm import LGBMClassifier\n",
    "from sklearn.calibration import CalibratedClassifierCV\n",
    "\n",
    "LGB_model = LGBMClassifier(max_depth = 8, n_estimators = 300, reg_lambda = 1.2, reg_alpha = 1.2, min_child_weight = 1, verbose  = 1,\n",
    "                          learning_rate = 0.15, gamma = 0.3, colsample_bytree = 0.6, eval_metric = 'auc', is_higher_better = 1, plot = True)\n",
    "LGB_model.fit(X_train_r, y_train)\n",
    "sig_clf = CalibratedClassifierCV(LGB_model, method = \"sigmoid\")\n",
    "sig_clf.fit(X_train_r, y_train)\n",
    "\n",
    "y_pred_train = sig_clf.predict_proba(X_train_r)\n",
    "y_pred_test = sig_clf.predict_proba(X_test_r)\n",
    "\n",
    "print(\"Train Score:\", roc_auc_score(y_train, y_pred_train[:, 1]))"
   ]
  },
  {
   "cell_type": "code",
   "execution_count": null,
   "metadata": {
    "colab": {
     "base_uri": "https://localhost:8080/",
     "height": 358
    },
    "colab_type": "code",
    "id": "auwc272b9ZBf",
    "outputId": "a83139c6-e606-4644-f4f8-13b2450aa17b"
   },
   "outputs": [
    {
     "data": {
      "image/png": "[encoded data removed]",
      "text/plain": [
       "<Figure size 360x360 with 1 Axes>"
      ]
     },
     "metadata": {
      "needs_background": "light",
      "tags": []
     },
     "output_type": "display_data"
    }
   ],
   "source": [
    "fpr, tpr, thresholds = roc_curve(y_train, y_pred_train[:, 1])\n",
    "plot_ROC(fpr, tpr)"
   ]
  },
  {
   "cell_type": "code",
   "execution_count": null,
   "metadata": {
    "colab": {
     "base_uri": "https://localhost:8080/",
     "height": 204
    },
    "colab_type": "code",
    "id": "wZoW5f1wAioN",
    "outputId": "62f99791-e817-47da-ad96-473bf8640bef"
   },
   "outputs": [
    {
     "data": {
      "text/html": [
       "<div>\n",
       "<style scoped>\n",
       "    .dataframe tbody tr th:only-of-type {\n",
       "        vertical-align: middle;\n",
       "    }\n",
       "\n",
       "    .dataframe tbody tr th {\n",
       "        vertical-align: top;\n",
       "    }\n",
       "\n",
       "    .dataframe thead th {\n",
       "        text-align: right;\n",
       "    }\n",
       "</style>\n",
       "<table border=\"1\" class=\"dataframe\">\n",
       "  <thead>\n",
       "    <tr style=\"text-align: right;\">\n",
       "      <th></th>\n",
       "      <th>id</th>\n",
       "      <th>Response</th>\n",
       "    </tr>\n",
       "  </thead>\n",
       "  <tbody>\n",
       "    <tr>\n",
       "      <th>0</th>\n",
       "      <td>381110</td>\n",
       "      <td>0.026455</td>\n",
       "    </tr>\n",
       "    <tr>\n",
       "      <th>1</th>\n",
       "      <td>381111</td>\n",
       "      <td>0.314695</td>\n",
       "    </tr>\n",
       "    <tr>\n",
       "      <th>2</th>\n",
       "      <td>381112</td>\n",
       "      <td>0.260928</td>\n",
       "    </tr>\n",
       "    <tr>\n",
       "      <th>3</th>\n",
       "      <td>381113</td>\n",
       "      <td>0.076663</td>\n",
       "    </tr>\n",
       "    <tr>\n",
       "      <th>4</th>\n",
       "      <td>381114</td>\n",
       "      <td>0.025671</td>\n",
       "    </tr>\n",
       "  </tbody>\n",
       "</table>\n",
       "</div>"
      ],
      "text/plain": [
       "       id  Response\n",
       "0  381110  0.026455\n",
       "1  381111  0.314695\n",
       "2  381112  0.260928\n",
       "3  381113  0.076663\n",
       "4  381114  0.025671"
      ]
     },
     "execution_count": 55,
     "metadata": {
      "tags": []
     },
     "output_type": "execute_result"
    }
   ],
   "source": [
    "lightgbm_notuning_df = pd.DataFrame(data = {'id':test_data['id'], 'Response':y_pred_test[:, 1]})\n",
    "lightgbm_notuning_df.head()"
   ]
  },
  {
   "cell_type": "code",
   "execution_count": null,
   "metadata": {
    "colab": {},
    "colab_type": "code",
    "id": "xAMUE564Aiol"
   },
   "outputs": [],
   "source": [
    "lightgbm_notuning_df.to_csv(my_path + 'lightgbm_notuning_resp_feats.csv', index = False)"
   ]
  },
  {
   "cell_type": "markdown",
   "metadata": {
    "colab_type": "text",
    "id": "cfnPk7J22pIv"
   },
   "source": [
    "## 6.2 XGBoost Classifier (without hyperparameter tuning)"
   ]
  },
  {
   "cell_type": "code",
   "execution_count": null,
   "metadata": {
    "colab": {
     "base_uri": "https://localhost:8080/",
     "height": 34
    },
    "colab_type": "code",
    "id": "gbrH8GFLEHhy",
    "outputId": "687c5b41-c099-49b5-a95c-6765aeadcf5f"
   },
   "outputs": [
    {
     "name": "stdout",
     "output_type": "stream",
     "text": [
      "Train Score: 0.9047303386039507\n"
     ]
    }
   ],
   "source": [
    "from xgboost.sklearn import XGBClassifier\n",
    "\n",
    "xgb = XGBClassifier(n_estimators = 150, max_depth = 11, colsample_bytree = 0.6, n_jobs = -1, random_state = 21)\n",
    "xgb.fit(X_train_r, y_train)\n",
    "sig_clf = CalibratedClassifierCV(xgb, method = \"sigmoid\")\n",
    "sig_clf.fit(X_train_r, y_train)\n",
    "\n",
    "y_pred_train = sig_clf.predict_proba(X_train_r)\n",
    "y_pred_test = sig_clf.predict_proba(X_test_r)\n",
    "\n",
    "print(\"Train Score:\", roc_auc_score(y_train, y_pred_train[:, 1]))"
   ]
  },
  {
   "cell_type": "code",
   "execution_count": null,
   "metadata": {
    "colab": {
     "base_uri": "https://localhost:8080/",
     "height": 204
    },
    "colab_type": "code",
    "id": "ae-PaXkqEHiW",
    "outputId": "ac99acdf-3d06-49c0-ba1c-35f67449a70a"
   },
   "outputs": [
    {
     "data": {
      "text/html": [
       "<div>\n",
       "<style scoped>\n",
       "    .dataframe tbody tr th:only-of-type {\n",
       "        vertical-align: middle;\n",
       "    }\n",
       "\n",
       "    .dataframe tbody tr th {\n",
       "        vertical-align: top;\n",
       "    }\n",
       "\n",
       "    .dataframe thead th {\n",
       "        text-align: right;\n",
       "    }\n",
       "</style>\n",
       "<table border=\"1\" class=\"dataframe\">\n",
       "  <thead>\n",
       "    <tr style=\"text-align: right;\">\n",
       "      <th></th>\n",
       "      <th>id</th>\n",
       "      <th>Response</th>\n",
       "    </tr>\n",
       "  </thead>\n",
       "  <tbody>\n",
       "    <tr>\n",
       "      <th>0</th>\n",
       "      <td>381110</td>\n",
       "      <td>0.028510</td>\n",
       "    </tr>\n",
       "    <tr>\n",
       "      <th>1</th>\n",
       "      <td>381111</td>\n",
       "      <td>0.433677</td>\n",
       "    </tr>\n",
       "    <tr>\n",
       "      <th>2</th>\n",
       "      <td>381112</td>\n",
       "      <td>0.274555</td>\n",
       "    </tr>\n",
       "    <tr>\n",
       "      <th>3</th>\n",
       "      <td>381113</td>\n",
       "      <td>0.071792</td>\n",
       "    </tr>\n",
       "    <tr>\n",
       "      <th>4</th>\n",
       "      <td>381114</td>\n",
       "      <td>0.027961</td>\n",
       "    </tr>\n",
       "  </tbody>\n",
       "</table>\n",
       "</div>"
      ],
      "text/plain": [
       "       id  Response\n",
       "0  381110  0.028510\n",
       "1  381111  0.433677\n",
       "2  381112  0.274555\n",
       "3  381113  0.071792\n",
       "4  381114  0.027961"
      ]
     },
     "execution_count": 59,
     "metadata": {
      "tags": []
     },
     "output_type": "execute_result"
    }
   ],
   "source": [
    "xgb_notuning_resp_feats = pd.DataFrame(data = {'id':test_data['id'], 'Response':y_pred_test[:, 1]})\n",
    "xgb_notuning_resp_feats.head()"
   ]
  },
  {
   "cell_type": "code",
   "execution_count": null,
   "metadata": {
    "colab": {},
    "colab_type": "code",
    "id": "j-aW4MAvEHir"
   },
   "outputs": [],
   "source": [
    "xgb_notuning_resp_feats.to_csv(my_path + 'xgb_notuning_resp_feats.csv', index = False)"
   ]
  },
  {
   "cell_type": "code",
   "execution_count": null,
   "metadata": {
    "colab": {},
    "colab_type": "code",
    "id": "5MzXt_-6INJd"
   },
   "outputs": [],
   "source": [
    "xgb_notuning_nocal_resp.to_csv(my_path + 'xgb_notuning_nocal_resp.csv', index = False)"
   ]
  },
  {
   "cell_type": "markdown",
   "metadata": {
    "colab_type": "text",
    "id": "VrXNeZxSIlQO"
   },
   "source": [
    "## 6.3 XGBoost Classifier (with hyperparameter tuning)"
   ]
  },
  {
   "cell_type": "code",
   "execution_count": null,
   "metadata": {
    "colab": {},
    "colab_type": "code",
    "id": "_XWmr3kZJ_5_"
   },
   "outputs": [],
   "source": [
    "'''\n",
    "XGBClassifier(max_depth=3, learning_rate=0.1, n_estimators=100, verbosity=1, silent=None, \n",
    "              objective='binary:logistic', booster='gbtree', n_jobs=1, nthread=None, \n",
    "              gamma=0, min_child_weight=1, max_delta_step=0, subsample=1, colsample_bytree=1, \n",
    "              colsample_bylevel=1, colsample_bynode=1, reg_alpha=0, reg_lambda=1, scale_pos_weight=1, \n",
    "              base_score=0.5, random_state=0, seed=None, missing=None, **kwargs)\n",
    "'''"
   ]
  },
  {
   "cell_type": "code",
   "execution_count": null,
   "metadata": {
    "colab": {
     "base_uri": "https://localhost:8080/",
     "height": 289
    },
    "colab_type": "code",
    "id": "xvjGr6NzIZU-",
    "outputId": "896dad08-a01f-42a5-99dc-a657a221e750"
   },
   "outputs": [
    {
     "data": {
      "text/plain": [
       "GridSearchCV(cv=3, error_score=nan,\n",
       "             estimator=XGBClassifier(base_score=0.5, booster='gbtree',\n",
       "                                     colsample_bylevel=1, colsample_bynode=1,\n",
       "                                     colsample_bytree=1, gamma=0,\n",
       "                                     learning_rate=0.1, max_delta_step=0,\n",
       "                                     max_depth=3, min_child_weight=1,\n",
       "                                     missing=None, n_estimators=100, n_jobs=-1,\n",
       "                                     nthread=None, objective='binary:logistic',\n",
       "                                     random_state=21, reg_alpha=0, reg_lambda=1,\n",
       "                                     scale_pos_weight=1, seed=None, silent=None,\n",
       "                                     subsample=1, verbosity=1),\n",
       "             iid='deprecated', n_jobs=-1,\n",
       "             param_grid={'max_depth': [3, 5, 7, 11, 15],\n",
       "                         'n_estimators': [50, 100, 150, 250, 500]},\n",
       "             pre_dispatch='2*n_jobs', refit=True, return_train_score=True,\n",
       "             scoring='roc_auc', verbose=0)"
      ]
     },
     "execution_count": 80,
     "metadata": {
      "tags": []
     },
     "output_type": "execute_result"
    }
   ],
   "source": [
    "from sklearn.model_selection import GridSearchCV\n",
    "\n",
    "xgb = XGBClassifier(n_jobs = -1, random_state = 21)\n",
    "params = {'n_estimators': [50, 100, 150, 250, 500], \n",
    "          'max_depth': [3, 5, 7, 11, 15]}\n",
    "clf = GridSearchCV(xgb, params, scoring = 'roc_auc', cv = 3, return_train_score = True, n_jobs = -1)\n",
    "clf.fit(X_train_r, y_train)"
   ]
  },
  {
   "cell_type": "code",
   "execution_count": null,
   "metadata": {
    "colab": {
     "base_uri": "https://localhost:8080/",
     "height": 136
    },
    "colab_type": "code",
    "id": "5hc3H1QvLBtq",
    "outputId": "bb12259e-6b57-4a68-bb27-38c6ddeb0801"
   },
   "outputs": [
    {
     "data": {
      "text/plain": [
       "XGBClassifier(base_score=0.5, booster='gbtree', colsample_bylevel=1,\n",
       "              colsample_bynode=1, colsample_bytree=1, gamma=0,\n",
       "              learning_rate=0.1, max_delta_step=0, max_depth=7,\n",
       "              min_child_weight=1, missing=None, n_estimators=100, n_jobs=-1,\n",
       "              nthread=None, objective='binary:logistic', random_state=21,\n",
       "              reg_alpha=0, reg_lambda=1, scale_pos_weight=1, seed=None,\n",
       "              silent=None, subsample=1, verbosity=1)"
      ]
     },
     "execution_count": 81,
     "metadata": {
      "tags": []
     },
     "output_type": "execute_result"
    }
   ],
   "source": [
    "clf.best_estimator_"
   ]
  },
  {
   "cell_type": "code",
   "execution_count": null,
   "metadata": {
    "colab": {
     "base_uri": "https://localhost:8080/",
     "height": 303
    },
    "colab_type": "code",
    "id": "3AO5oa-f_N5l",
    "outputId": "5e8b534d-f6d7-4d5e-c4fb-3c7d0335dc4a"
   },
   "outputs": [
    {
     "data": {
      "image/png": "[encoded data removed]",
      "text/plain": [
       "<Figure size 1080x288 with 4 Axes>"
      ]
     },
     "metadata": {
      "tags": []
     },
     "output_type": "display_data"
    }
   ],
   "source": [
    "# plot the performance of model both on train data and cross validation data for each hyper parameter using a Seaborn Heatmap\n",
    "# reference -> https://kavisekhon.com/Grid%20Search.html\n",
    "\n",
    "sns.set()\n",
    "max_scores = pd.DataFrame(clf.cv_results_).groupby(\n",
    "            ['param_n_estimators', 'param_max_depth']).max().unstack()[\n",
    "            ['mean_train_score', 'mean_test_score']]\n",
    "\n",
    "fig, ax = plt.subplots(1,2, figsize = (15, 4))\n",
    "sns.heatmap(max_scores.mean_train_score, annot = True, ax = ax[0], fmt = '.5g', cmap = \"YlGnBu\")\n",
    "sns.heatmap(max_scores.mean_test_score, annot = True, ax = ax[1], fmt ='.5g', cmap = \"YlGnBu\")\n",
    "\n",
    "ax[0].set_title('Train Set', fontsize = 15)\n",
    "ax[1].set_title('CV Set', fontsize = 15)\n",
    "plt.show()"
   ]
  },
  {
   "cell_type": "markdown",
   "metadata": {
    "colab_type": "text",
    "id": "xOlEK-Sp_50j"
   },
   "source": [
    "#### n = 100, max_depth = 7\n",
    "Let's tune subsample and colsample by tree"
   ]
  },
  {
   "cell_type": "code",
   "execution_count": null,
   "metadata": {
    "colab": {
     "base_uri": "https://localhost:8080/",
     "height": 289
    },
    "colab_type": "code",
    "id": "b6Sjab-wlPoO",
    "outputId": "13ff46c1-b8e6-4f3e-dc57-0cc5303e9cb2"
   },
   "outputs": [
    {
     "data": {
      "text/plain": [
       "GridSearchCV(cv=3, error_score=nan,\n",
       "             estimator=XGBClassifier(base_score=0.5, booster='gbtree',\n",
       "                                     colsample_bylevel=1, colsample_bynode=1,\n",
       "                                     colsample_bytree=1, gamma=0,\n",
       "                                     learning_rate=0.1, max_delta_step=0,\n",
       "                                     max_depth=7, min_child_weight=1,\n",
       "                                     missing=None, n_estimators=100, n_jobs=-1,\n",
       "                                     nthread=None, objective='binary:logistic',\n",
       "                                     random_state=21, reg_alpha=0, reg_lambda=1,\n",
       "                                     scale_pos_weight=1, seed=None, silent=None,\n",
       "                                     subsample=1, verbosity=1),\n",
       "             iid='deprecated', n_jobs=-1,\n",
       "             param_grid={'colsample_bytree': [0.4, 0.6, 0.8, 1],\n",
       "                         'subsample': [0.5, 1]},\n",
       "             pre_dispatch='2*n_jobs', refit=True, return_train_score=True,\n",
       "             scoring='roc_auc', verbose=0)"
      ]
     },
     "execution_count": 83,
     "metadata": {
      "tags": []
     },
     "output_type": "execute_result"
    }
   ],
   "source": [
    "xgb = XGBClassifier(n_estimators = 100, max_depth = 7, n_jobs = -1, random_state = 21)\n",
    "params = {'subsample': [0.5, 1], \n",
    "          'colsample_bytree': [0.4, 0.6, 0.8, 1]}\n",
    "clf = GridSearchCV(xgb, params, scoring = 'roc_auc', cv = 3, return_train_score = True, n_jobs = -1)\n",
    "clf.fit(X_train_r, y_train)"
   ]
  },
  {
   "cell_type": "code",
   "execution_count": null,
   "metadata": {
    "colab": {
     "base_uri": "https://localhost:8080/",
     "height": 136
    },
    "colab_type": "code",
    "id": "u1zn2_zJlPda",
    "outputId": "3a637c9f-2295-4004-d39b-8ab1ffe355aa"
   },
   "outputs": [
    {
     "data": {
      "text/plain": [
       "XGBClassifier(base_score=0.5, booster='gbtree', colsample_bylevel=1,\n",
       "              colsample_bynode=1, colsample_bytree=0.6, gamma=0,\n",
       "              learning_rate=0.1, max_delta_step=0, max_depth=7,\n",
       "              min_child_weight=1, missing=None, n_estimators=100, n_jobs=-1,\n",
       "              nthread=None, objective='binary:logistic', random_state=21,\n",
       "              reg_alpha=0, reg_lambda=1, scale_pos_weight=1, seed=None,\n",
       "              silent=None, subsample=1, verbosity=1)"
      ]
     },
     "execution_count": 84,
     "metadata": {
      "tags": []
     },
     "output_type": "execute_result"
    }
   ],
   "source": [
    "clf.best_estimator_"
   ]
  },
  {
   "cell_type": "code",
   "execution_count": null,
   "metadata": {
    "colab": {
     "base_uri": "https://localhost:8080/",
     "height": 303
    },
    "colab_type": "code",
    "id": "0txdC073C7Ro",
    "outputId": "1828a79d-2b60-4603-e623-a975ba77d843"
   },
   "outputs": [
    {
     "data": {
      "image/png": "[encoded data removed]",
      "text/plain": [
       "<Figure size 1080x288 with 4 Axes>"
      ]
     },
     "metadata": {
      "tags": []
     },
     "output_type": "display_data"
    }
   ],
   "source": [
    "max_scores = pd.DataFrame(clf.cv_results_).groupby(\n",
    "            ['param_subsample', 'param_colsample_bytree']).max().unstack()[\n",
    "            ['mean_train_score', 'mean_test_score']]\n",
    "\n",
    "fig, ax = plt.subplots(1,2, figsize = (15, 4))\n",
    "sns.heatmap(max_scores.mean_train_score, annot = True, ax = ax[0], fmt = '.5g', cmap = \"YlGnBu\")\n",
    "sns.heatmap(max_scores.mean_test_score, annot = True, ax = ax[1], fmt ='.5g', cmap = \"YlGnBu\")\n",
    "\n",
    "ax[0].set_title('Train Set', fontsize = 15)\n",
    "ax[1].set_title('CV Set', fontsize = 15)\n",
    "plt.show()"
   ]
  },
  {
   "cell_type": "markdown",
   "metadata": {
    "colab_type": "text",
    "id": "Mtw_2LQ8GUWw"
   },
   "source": [
    "#### Optimal hyperparams: n_estimators = 100, max_depth = 7, subsample = 1, colsample_bytree = 0.6\n"
   ]
  },
  {
   "cell_type": "code",
   "execution_count": null,
   "metadata": {
    "colab": {
     "base_uri": "https://localhost:8080/",
     "height": 34
    },
    "colab_type": "code",
    "id": "c5Cx0-xBzEXy",
    "outputId": "7f364e82-d4b7-4fe9-e1f2-69d3d973c50c"
   },
   "outputs": [
    {
     "name": "stdout",
     "output_type": "stream",
     "text": [
      "Train Score: 0.866605555071906\n"
     ]
    }
   ],
   "source": [
    "xgb = XGBClassifier(n_estimators = 100, max_depth = 7, subsample = 1, colsample_bytree = 0.6, n_jobs = -1, random_state = 21)\n",
    "xgb.fit(X_train_r, y_train)\n",
    "sig_clf = CalibratedClassifierCV(xgb, method = \"sigmoid\")\n",
    "sig_clf.fit(X_train_r, y_train)\n",
    "\n",
    "y_pred_train = sig_clf.predict_proba(X_train_r)\n",
    "y_pred_test = sig_clf.predict_proba(X_test_r)\n",
    "\n",
    "print(\"Train Score:\", roc_auc_score(y_train, y_pred_train[:, 1]))"
   ]
  },
  {
   "cell_type": "code",
   "execution_count": null,
   "metadata": {
    "colab": {
     "base_uri": "https://localhost:8080/",
     "height": 204
    },
    "colab_type": "code",
    "id": "GceRtEqdzEX_",
    "outputId": "4db6cf13-3927-46f0-ef06-bf1f3e3b1c33"
   },
   "outputs": [
    {
     "data": {
      "text/html": [
       "<div>\n",
       "<style scoped>\n",
       "    .dataframe tbody tr th:only-of-type {\n",
       "        vertical-align: middle;\n",
       "    }\n",
       "\n",
       "    .dataframe tbody tr th {\n",
       "        vertical-align: top;\n",
       "    }\n",
       "\n",
       "    .dataframe thead th {\n",
       "        text-align: right;\n",
       "    }\n",
       "</style>\n",
       "<table border=\"1\" class=\"dataframe\">\n",
       "  <thead>\n",
       "    <tr style=\"text-align: right;\">\n",
       "      <th></th>\n",
       "      <th>id</th>\n",
       "      <th>Response</th>\n",
       "    </tr>\n",
       "  </thead>\n",
       "  <tbody>\n",
       "    <tr>\n",
       "      <th>0</th>\n",
       "      <td>381110</td>\n",
       "      <td>0.020910</td>\n",
       "    </tr>\n",
       "    <tr>\n",
       "      <th>1</th>\n",
       "      <td>381111</td>\n",
       "      <td>0.273738</td>\n",
       "    </tr>\n",
       "    <tr>\n",
       "      <th>2</th>\n",
       "      <td>381112</td>\n",
       "      <td>0.281243</td>\n",
       "    </tr>\n",
       "    <tr>\n",
       "      <th>3</th>\n",
       "      <td>381113</td>\n",
       "      <td>0.022044</td>\n",
       "    </tr>\n",
       "    <tr>\n",
       "      <th>4</th>\n",
       "      <td>381114</td>\n",
       "      <td>0.020899</td>\n",
       "    </tr>\n",
       "  </tbody>\n",
       "</table>\n",
       "</div>"
      ],
      "text/plain": [
       "       id  Response\n",
       "0  381110  0.020910\n",
       "1  381111  0.273738\n",
       "2  381112  0.281243\n",
       "3  381113  0.022044\n",
       "4  381114  0.020899"
      ]
     },
     "execution_count": 87,
     "metadata": {
      "tags": []
     },
     "output_type": "execute_result"
    }
   ],
   "source": [
    "xgb_new100_7point6_cal1 = pd.DataFrame(data = {'id':test_data['id'], 'Response':y_pred_test[:, 1]})\n",
    "xgb_new100_7point6_cal1.head()"
   ]
  },
  {
   "cell_type": "code",
   "execution_count": null,
   "metadata": {
    "colab": {},
    "colab_type": "code",
    "id": "y2BgnGgPzEYI"
   },
   "outputs": [],
   "source": [
    "xgb_new100_7point6_cal.to_csv(my_path + 'xgb_new100_7point6_cal1.csv', index = False)"
   ]
  }
 ],
 "metadata": {
  "colab": {
   "name": "Janatahack_Cross_Sell_prediction_pratiknabriya.ipynb",
   "provenance": []
  },
  "kernelspec": {
   "display_name": "Python 3",
   "language": "python",
   "name": "python3"
  },
  "language_info": {
   "codemirror_mode": {
    "name": "ipython",
    "version": 3
   },
   "file_extension": ".py",
   "mimetype": "text/x-python",
   "name": "python",
   "nbconvert_exporter": "python",
   "pygments_lexer": "ipython3",
   "version": "3.7.3"
  }
 },
 "nbformat": 4,
 "nbformat_minor": 1
}
